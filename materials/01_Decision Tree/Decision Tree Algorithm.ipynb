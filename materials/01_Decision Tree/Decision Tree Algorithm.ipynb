{
 "cells": [
  {
   "cell_type": "markdown",
   "id": "be4c16d4-6579-4771-9d30-41a83e26e1a0",
   "metadata": {},
   "source": [
    "# Decision Tree Algorithm\n",
    "\n",
    "Course: DS312 - Data Mining and Applications \\\n",
    "Instructor: Jhun Brian M. Andam"
   ]
  },
  {
   "cell_type": "code",
   "execution_count": 2,
   "id": "23dd4c5f-94ba-4fce-9e6b-132e5ebef596",
   "metadata": {},
   "outputs": [],
   "source": [
    "import seaborn as sns\n",
    "import pandas as pd\n",
    "import numpy as np\n",
    "import matplotlib.pyplot as plt\n",
    "\n",
    "from sklearn import tree\n",
    "from sklearn.preprocessing import LabelEncoder"
   ]
  },
  {
   "cell_type": "markdown",
   "id": "3c555c33-0d90-43ae-84c0-1a33dd1a5ce8",
   "metadata": {},
   "source": [
    "### Load Dataset"
   ]
  },
  {
   "cell_type": "code",
   "execution_count": 3,
   "id": "3238ab3b-487e-4a20-ab32-0f9d3e7e3b10",
   "metadata": {},
   "outputs": [
    {
     "data": {
      "text/html": [
       "<div>\n",
       "<style scoped>\n",
       "    .dataframe tbody tr th:only-of-type {\n",
       "        vertical-align: middle;\n",
       "    }\n",
       "\n",
       "    .dataframe tbody tr th {\n",
       "        vertical-align: top;\n",
       "    }\n",
       "\n",
       "    .dataframe thead th {\n",
       "        text-align: right;\n",
       "    }\n",
       "</style>\n",
       "<table border=\"1\" class=\"dataframe\">\n",
       "  <thead>\n",
       "    <tr style=\"text-align: right;\">\n",
       "      <th></th>\n",
       "      <th>age</th>\n",
       "      <th>has_job</th>\n",
       "      <th>own_house</th>\n",
       "      <th>credit_rating</th>\n",
       "      <th>class</th>\n",
       "    </tr>\n",
       "  </thead>\n",
       "  <tbody>\n",
       "    <tr>\n",
       "      <th>0</th>\n",
       "      <td>young</td>\n",
       "      <td>False</td>\n",
       "      <td>False</td>\n",
       "      <td>fair</td>\n",
       "      <td>no</td>\n",
       "    </tr>\n",
       "    <tr>\n",
       "      <th>1</th>\n",
       "      <td>young</td>\n",
       "      <td>False</td>\n",
       "      <td>False</td>\n",
       "      <td>good</td>\n",
       "      <td>no</td>\n",
       "    </tr>\n",
       "    <tr>\n",
       "      <th>2</th>\n",
       "      <td>young</td>\n",
       "      <td>True</td>\n",
       "      <td>False</td>\n",
       "      <td>good</td>\n",
       "      <td>yes</td>\n",
       "    </tr>\n",
       "    <tr>\n",
       "      <th>3</th>\n",
       "      <td>young</td>\n",
       "      <td>True</td>\n",
       "      <td>True</td>\n",
       "      <td>fair</td>\n",
       "      <td>yes</td>\n",
       "    </tr>\n",
       "    <tr>\n",
       "      <th>4</th>\n",
       "      <td>young</td>\n",
       "      <td>False</td>\n",
       "      <td>False</td>\n",
       "      <td>fair</td>\n",
       "      <td>no</td>\n",
       "    </tr>\n",
       "    <tr>\n",
       "      <th>5</th>\n",
       "      <td>middle</td>\n",
       "      <td>False</td>\n",
       "      <td>False</td>\n",
       "      <td>fair</td>\n",
       "      <td>no</td>\n",
       "    </tr>\n",
       "    <tr>\n",
       "      <th>6</th>\n",
       "      <td>middle</td>\n",
       "      <td>False</td>\n",
       "      <td>False</td>\n",
       "      <td>good</td>\n",
       "      <td>no</td>\n",
       "    </tr>\n",
       "    <tr>\n",
       "      <th>7</th>\n",
       "      <td>middle</td>\n",
       "      <td>True</td>\n",
       "      <td>True</td>\n",
       "      <td>good</td>\n",
       "      <td>yes</td>\n",
       "    </tr>\n",
       "    <tr>\n",
       "      <th>8</th>\n",
       "      <td>middle</td>\n",
       "      <td>False</td>\n",
       "      <td>True</td>\n",
       "      <td>excellent</td>\n",
       "      <td>yes</td>\n",
       "    </tr>\n",
       "    <tr>\n",
       "      <th>9</th>\n",
       "      <td>middle</td>\n",
       "      <td>False</td>\n",
       "      <td>True</td>\n",
       "      <td>excellent</td>\n",
       "      <td>yes</td>\n",
       "    </tr>\n",
       "    <tr>\n",
       "      <th>10</th>\n",
       "      <td>old</td>\n",
       "      <td>False</td>\n",
       "      <td>True</td>\n",
       "      <td>excellent</td>\n",
       "      <td>yes</td>\n",
       "    </tr>\n",
       "    <tr>\n",
       "      <th>11</th>\n",
       "      <td>old</td>\n",
       "      <td>False</td>\n",
       "      <td>True</td>\n",
       "      <td>good</td>\n",
       "      <td>yes</td>\n",
       "    </tr>\n",
       "    <tr>\n",
       "      <th>12</th>\n",
       "      <td>old</td>\n",
       "      <td>True</td>\n",
       "      <td>False</td>\n",
       "      <td>good</td>\n",
       "      <td>yes</td>\n",
       "    </tr>\n",
       "    <tr>\n",
       "      <th>13</th>\n",
       "      <td>old</td>\n",
       "      <td>True</td>\n",
       "      <td>False</td>\n",
       "      <td>excellent</td>\n",
       "      <td>yes</td>\n",
       "    </tr>\n",
       "    <tr>\n",
       "      <th>14</th>\n",
       "      <td>old</td>\n",
       "      <td>False</td>\n",
       "      <td>False</td>\n",
       "      <td>fair</td>\n",
       "      <td>no</td>\n",
       "    </tr>\n",
       "  </tbody>\n",
       "</table>\n",
       "</div>"
      ],
      "text/plain": [
       "       age  has_job  own_house credit_rating class\n",
       "0    young    False      False          fair    no\n",
       "1    young    False      False          good    no\n",
       "2    young     True      False          good   yes\n",
       "3    young     True       True          fair   yes\n",
       "4    young    False      False          fair    no\n",
       "5   middle    False      False          fair    no\n",
       "6   middle    False      False          good    no\n",
       "7   middle     True       True          good   yes\n",
       "8   middle    False       True     excellent   yes\n",
       "9   middle    False       True     excellent   yes\n",
       "10     old    False       True     excellent   yes\n",
       "11     old    False       True          good   yes\n",
       "12     old     True      False          good   yes\n",
       "13     old     True      False     excellent   yes\n",
       "14     old    False      False          fair    no"
      ]
     },
     "execution_count": 3,
     "metadata": {},
     "output_type": "execute_result"
    }
   ],
   "source": [
    "df = pd.read_excel('data/sample_data.xlsx', sheet_name='data')\n",
    "df"
   ]
  },
  {
   "cell_type": "markdown",
   "id": "66545716-c73f-4b4a-ad3f-c1db92f0a061",
   "metadata": {},
   "source": [
    "### Dataset Entropy $entropy(D)$\n",
    "\n",
    "\\begin{equation}\n",
    "    entropy(D) = -\\sum_{j=1}^{|C|}{Pr(C_j) \\times \\log_2{Pr(C_j)}}\n",
    "\\end{equation}\n",
    "\n",
    "Where:\n",
    "- $D$ denotes the dataset,\n",
    "- $C$ is the categorical feature,\n",
    "- $Pr(C_j)$ is the probability of the category $C_j$ occurring in the dataset."
   ]
  },
  {
   "cell_type": "code",
   "execution_count": 3,
   "id": "0c550ead-f64d-46ee-9d95-0b067204778c",
   "metadata": {},
   "outputs": [
    {
     "name": "stdout",
     "output_type": "stream",
     "text": [
      "Entropy(D): 0.9709505944546686\n"
     ]
    }
   ],
   "source": [
    "n = len(df)\n",
    "yes = (df['class'] == 'yes').sum()\n",
    "no = (df['class'] == 'no').sum()\n",
    "\n",
    "entropy_d = (-yes/n) * np.log2(yes/n) + (-no/n) * np.log2(no/n)\n",
    "print(f\"Entropy(D): {entropy_d}\")"
   ]
  },
  {
   "cell_type": "markdown",
   "id": "289fd4be-3852-4c35-a3b6-3356216fe504",
   "metadata": {},
   "source": [
    "**Utility function to calculate entropy**"
   ]
  },
  {
   "cell_type": "code",
   "execution_count": 4,
   "id": "6ffbd283-46ce-427d-8db4-ea6980776ed7",
   "metadata": {},
   "outputs": [],
   "source": [
    "def calc_entropy(pos, neg, n):\n",
    "    if pos == 0 or neg == 0:\n",
    "        return 0\n",
    "    p_positive = pos / n\n",
    "    p_negative = neg / n\n",
    "    entropy = -p_positive * np.log2(p_positive) - p_negative * np.log2(p_negative)\n",
    "    return entropy"
   ]
  },
  {
   "cell_type": "markdown",
   "id": "c5cdd40a-6a21-4cf9-a97f-93e804d56764",
   "metadata": {},
   "source": [
    "- *What are the required parameters to calculate the entropy of a feature?*\n",
    "- *What are the parameters to calculate the gain of a feature?*"
   ]
  },
  {
   "cell_type": "markdown",
   "id": "7414385c-c74a-46df-b047-6f87d67cda2f",
   "metadata": {},
   "source": [
    "### Calculating Entropy of the Categories of a Categorical Feature $entropy_{C}(D)$\n",
    "\n",
    "\\begin{equation}\n",
    "    entropy_{C_j}(D) = -\\sum_{j=1}^{|C|}{\\left(\\frac{|C_j|}{|C|}\\right) \\times \\log_2\\left(\\frac{|C_j|}{|C|}\\right)}\n",
    "\\end{equation}\n",
    "\n",
    "Where:\n",
    "\n",
    "- $D$ denotes the dataset.\n",
    "- $C$ is the categorical feature.\n",
    "- $|C_j|$ is the number of a particular category in the categorical feature.\n",
    "- $|C|$ is the total number of instances in the dataset.\n",
    "\n",
    "\n",
    "\n",
    "### Calculatuing the Entropy of the Entire Categorical Feature\n",
    "\n",
    "\\begin{equation}\n",
    "entropy_{\\text{Feature}}(D) = \\sum_{j=1}^{|C|}{\\left(\\frac{|C_j|}{|C|}\\right) \\times entropy_{C_j}(D)}\n",
    "\\end{equation}\n",
    "\n",
    "Where:\n",
    "\n",
    "- $entropy_{\\text{Feature}}(D)$ is the entropy of the entire categorical feature within the dataset.\n",
    "- $D$ represents the dataset.\n",
    "- $C$ is the categorical feature.\n",
    "- $|C_j|$ is the number of instances in a specific category within the categorical feature.\n",
    "- $|C|$ is the total number of instances in the dataset.\n",
    "- $entropy_{C_j}(D)$ is the entropy of the individual category $C_j$."
   ]
  },
  {
   "cell_type": "code",
   "execution_count": 5,
   "id": "eca7453b-3e1c-4a1d-abfd-1056b11831aa",
   "metadata": {},
   "outputs": [
    {
     "name": "stdout",
     "output_type": "stream",
     "text": [
      "Entropy(young): 0.9709505944546686\n",
      "Entropy(middle): 0.9709505944546686\n",
      "Entropy(old): 0.7219280948873623\n",
      "-----------------------------------\n",
      "Entropy(age): 0.8879430945988998\n",
      "Gain(age): 0.08300749985576883\n"
     ]
    }
   ],
   "source": [
    "# AGE\n",
    "\n",
    "age_young_yes = (df[df['age'] == 'young']['class'] == 'yes').sum()\n",
    "age_young_no = (df[df['age'] == 'young']['class'] == 'no').sum()\n",
    "\n",
    "age_middle_yes = (df[df['age'] == 'middle']['class'] == 'yes').sum()\n",
    "age_middle_no = (df[df['age'] == 'middle']['class'] == 'no').sum()\n",
    "\n",
    "age_old_yes = (df[df['age'] == 'old']['class'] == 'yes').sum()\n",
    "age_old_no = (df[df['age'] == 'old']['class'] == 'no').sum()\n",
    "\n",
    "entropy_young = calc_entropy(age_young_yes, age_young_no, age_young_yes + age_young_no) # entropy for each categories\n",
    "entropy_middle = calc_entropy(age_middle_yes, age_middle_no, age_middle_yes + age_middle_no) # entropy for each categories\n",
    "entropy_old = calc_entropy(age_old_yes, age_old_no, age_old_yes + age_old_no) # entropy for each categories\n",
    "\n",
    "print(f\"Entropy(young): {entropy_young}\")\n",
    "print(f\"Entropy(middle): {entropy_middle}\")\n",
    "print(f\"Entropy(old): {entropy_old}\")\n",
    "print(f\"-\"*35)\n",
    "\n",
    "entropy_age =   df['age'].value_counts()['young'] / n * entropy_young + \\\n",
    "                df['age'].value_counts()['middle'] / n * entropy_middle + \\\n",
    "                df['age'].value_counts()['old'] / n * entropy_old\n",
    "\n",
    "gain_age = entropy_d - entropy_age\n",
    "\n",
    "print(f\"Entropy(age): {entropy_age}\")\n",
    "print(f\"Gain(age): {gain_age}\")"
   ]
  },
  {
   "cell_type": "code",
   "execution_count": 6,
   "id": "10e56e3f-2936-4637-af79-a9b619427b01",
   "metadata": {},
   "outputs": [
    {
     "name": "stdout",
     "output_type": "stream",
     "text": [
      "Entropy(true): 0\n",
      "Entropy(false): 0.9709505944546686\n",
      "-----------------------------------\n",
      "Entropy(age): 0.6473003963031123\n",
      "Gain(age): 0.32365019815155627\n"
     ]
    }
   ],
   "source": [
    "# HAS JOB\n",
    "\n",
    "hasjob_true_yes = (df[df['has_job'] == True]['class'] == 'yes').sum()\n",
    "hasjob_true_no = (df[df['has_job'] == True]['class'] == 'no').sum()\n",
    "\n",
    "hasjob_false_yes = (df[df['has_job'] == False]['class'] == 'yes').sum()\n",
    "hasjob_false_no = (df[df['has_job'] == False]['class'] == 'no').sum()\n",
    "\n",
    "entropy_hj_true = calc_entropy(hasjob_true_yes, hasjob_true_no, hasjob_true_yes + hasjob_true_no)\n",
    "entropy_hj_false = calc_entropy(hasjob_false_yes, hasjob_false_no, hasjob_false_yes + hasjob_false_no)\n",
    "\n",
    "print(f\"Entropy(true): {entropy_hj_true}\")\n",
    "print(f\"Entropy(false): {entropy_hj_false}\")\n",
    "print(f\"-\"*35)\n",
    "\n",
    "entropy_hasjob =    df['has_job'].value_counts()[True] / n * entropy_hj_true + \\\n",
    "                    df['has_job'].value_counts()[False] / n * entropy_hj_false\n",
    "\n",
    "gain_hasjob = entropy_d - entropy_hasjob\n",
    "\n",
    "print(f\"Entropy(age): {entropy_hasjob}\")\n",
    "print(f\"Gain(age): {gain_hasjob}\")"
   ]
  },
  {
   "cell_type": "code",
   "execution_count": 7,
   "id": "e460da7f-c54f-4d0f-a958-9f7a29e408d8",
   "metadata": {},
   "outputs": [
    {
     "name": "stdout",
     "output_type": "stream",
     "text": [
      "Entropy(true): 0\n",
      "Entropy(false): 0.9182958340544896\n",
      "-----------------------------------\n",
      "Entropy(own_house): 0.5509775004326937\n",
      "Gain(own_house): 0.4199730940219749\n"
     ]
    }
   ],
   "source": [
    "# OWN HOUSE\n",
    "\n",
    "ownhouse_true_yes = (df[df['own_house'] == True]['class'] == 'yes').sum()\n",
    "ownhouse_true_no = (df[df['own_house'] == True]['class'] == 'no').sum()\n",
    "\n",
    "ownhouse_false_yes = (df[df['own_house'] == False]['class'] == 'yes').sum()\n",
    "ownhouse_false_no = (df[df['own_house'] == False]['class'] == 'no').sum()\n",
    "\n",
    "entropy_oh_true = calc_entropy(ownhouse_true_yes, ownhouse_true_no, ownhouse_true_yes + ownhouse_true_no)\n",
    "entropy_oh_false = calc_entropy(ownhouse_false_yes, ownhouse_false_no, ownhouse_false_yes + ownhouse_false_no)\n",
    "\n",
    "print(f\"Entropy(true): {entropy_oh_true}\")\n",
    "print(f\"Entropy(false): {entropy_oh_false}\")\n",
    "print(f\"-\"*35)\n",
    "\n",
    "entropy_ownhouse =  df['own_house'].value_counts()[True] / n * entropy_oh_true + \\\n",
    "                    df['own_house'].value_counts()[False] / n * entropy_oh_false\n",
    "\n",
    "gain_ownhouse = entropy_d - entropy_ownhouse\n",
    "\n",
    "print(f\"Entropy(own_house): {entropy_ownhouse}\")\n",
    "print(f\"Gain(own_house): {gain_ownhouse}\")"
   ]
  },
  {
   "cell_type": "code",
   "execution_count": 8,
   "id": "0666922c-b10c-4f00-aa28-bd7b1b7a041f",
   "metadata": {},
   "outputs": [
    {
     "name": "stdout",
     "output_type": "stream",
     "text": [
      "Entropy(fair): 0.7219280948873623\n",
      "Entropy(good): 0.9182958340544896\n",
      "Entropy(excellent): 0\n",
      "-----------------------------------\n",
      "Entropy(credit_rating): 0.6079610319175832\n",
      "Gain(credit_rating): 0.36298956253708536\n"
     ]
    }
   ],
   "source": [
    "# CREDIT RATING\n",
    "\n",
    "creditrating_fair_yes = (df[df['credit_rating'] == 'fair']['class'] == 'yes').sum()\n",
    "creditrating_fair_no = (df[df['credit_rating'] == 'fair']['class'] == 'no').sum()\n",
    "\n",
    "creditrating_good_yes = (df[df['credit_rating'] == 'good']['class'] == 'yes').sum()\n",
    "creditrating_good_no = (df[df['credit_rating'] == 'good']['class'] == 'no').sum()\n",
    "\n",
    "creditrating_excellent_yes = (df[df['credit_rating'] == 'excellent']['class'] == 'yes').sum()\n",
    "creditrating_excellent_no = (df[df['credit_rating'] == 'excellent']['class'] == 'no').sum()\n",
    "\n",
    "entropy_fair = calc_entropy(creditrating_fair_yes, creditrating_fair_no, creditrating_fair_yes + creditrating_fair_no)\n",
    "entropy_good = calc_entropy(creditrating_good_yes, creditrating_good_no, creditrating_good_yes + creditrating_good_no)\n",
    "entropy_excellent = calc_entropy(creditrating_excellent_yes, creditrating_excellent_no, creditrating_excellent_yes + creditrating_excellent_no)\n",
    "\n",
    "print(f\"Entropy(fair): {entropy_fair}\")\n",
    "print(f\"Entropy(good): {entropy_good}\")\n",
    "print(f\"Entropy(excellent): {entropy_excellent}\")\n",
    "print(f\"-\"*35)\n",
    "\n",
    "entropy_creditrating =  df['credit_rating'].value_counts()['fair'] / n * entropy_fair + \\\n",
    "                        df['credit_rating'].value_counts()['good'] / n * entropy_good + \\\n",
    "                        df['credit_rating'].value_counts()['excellent'] / n * entropy_excellent\n",
    "\n",
    "gain_creditrating = entropy_d - entropy_creditrating\n",
    "\n",
    "print(f\"Entropy(credit_rating): {entropy_creditrating}\")\n",
    "print(f\"Gain(credit_rating): {gain_creditrating}\")"
   ]
  },
  {
   "cell_type": "code",
   "execution_count": 9,
   "id": "f4e12a89-345c-4590-98d8-9ef7f12252fd",
   "metadata": {},
   "outputs": [
    {
     "data": {
      "text/html": [
       "<div>\n",
       "<style scoped>\n",
       "    .dataframe tbody tr th:only-of-type {\n",
       "        vertical-align: middle;\n",
       "    }\n",
       "\n",
       "    .dataframe tbody tr th {\n",
       "        vertical-align: top;\n",
       "    }\n",
       "\n",
       "    .dataframe thead th {\n",
       "        text-align: right;\n",
       "    }\n",
       "</style>\n",
       "<table border=\"1\" class=\"dataframe\">\n",
       "  <thead>\n",
       "    <tr style=\"text-align: right;\">\n",
       "      <th></th>\n",
       "      <th>Entropy</th>\n",
       "      <th>Gain</th>\n",
       "    </tr>\n",
       "  </thead>\n",
       "  <tbody>\n",
       "    <tr>\n",
       "      <th>age</th>\n",
       "      <td>0.887943</td>\n",
       "      <td>0.083007</td>\n",
       "    </tr>\n",
       "    <tr>\n",
       "      <th>has_job</th>\n",
       "      <td>0.647300</td>\n",
       "      <td>0.323650</td>\n",
       "    </tr>\n",
       "    <tr>\n",
       "      <th>own_house</th>\n",
       "      <td>0.550978</td>\n",
       "      <td>0.419973</td>\n",
       "    </tr>\n",
       "    <tr>\n",
       "      <th>credit_rating</th>\n",
       "      <td>0.607961</td>\n",
       "      <td>0.362990</td>\n",
       "    </tr>\n",
       "  </tbody>\n",
       "</table>\n",
       "</div>"
      ],
      "text/plain": [
       "                Entropy      Gain\n",
       "age            0.887943  0.083007\n",
       "has_job        0.647300  0.323650\n",
       "own_house      0.550978  0.419973\n",
       "credit_rating  0.607961  0.362990"
      ]
     },
     "execution_count": 9,
     "metadata": {},
     "output_type": "execute_result"
    }
   ],
   "source": [
    "result1 = pd.DataFrame(data={'Entropy':[entropy_age, entropy_hasjob, entropy_ownhouse, entropy_creditrating], \n",
    "                             'Gain':[gain_age, gain_hasjob, gain_ownhouse, gain_creditrating]}, index=df.columns[:-1])\n",
    "result1"
   ]
  },
  {
   "cell_type": "markdown",
   "id": "09f7cf88-5d98-4f91-9483-5c928a5fd751",
   "metadata": {},
   "source": [
    "The feature with the maximum gain is the `own_house`, therefore, this feature will be used for the root node.\n",
    "\n",
    "<center><img src='figures/it1.png'></center>\n",
    "\n",
    "For the second iteration, we will be using the dataframe where instances of `own_house` is `False`."
   ]
  },
  {
   "cell_type": "code",
   "execution_count": 8,
   "id": "7b1a5d4c-6481-4bb6-92b6-e4e25667faf4",
   "metadata": {},
   "outputs": [
    {
     "data": {
      "text/html": [
       "<div>\n",
       "<style scoped>\n",
       "    .dataframe tbody tr th:only-of-type {\n",
       "        vertical-align: middle;\n",
       "    }\n",
       "\n",
       "    .dataframe tbody tr th {\n",
       "        vertical-align: top;\n",
       "    }\n",
       "\n",
       "    .dataframe thead th {\n",
       "        text-align: right;\n",
       "    }\n",
       "</style>\n",
       "<table border=\"1\" class=\"dataframe\">\n",
       "  <thead>\n",
       "    <tr style=\"text-align: right;\">\n",
       "      <th></th>\n",
       "      <th>age</th>\n",
       "      <th>has_job</th>\n",
       "      <th>credit_rating</th>\n",
       "      <th>class</th>\n",
       "    </tr>\n",
       "  </thead>\n",
       "  <tbody>\n",
       "    <tr>\n",
       "      <th>0</th>\n",
       "      <td>young</td>\n",
       "      <td>False</td>\n",
       "      <td>fair</td>\n",
       "      <td>no</td>\n",
       "    </tr>\n",
       "    <tr>\n",
       "      <th>1</th>\n",
       "      <td>young</td>\n",
       "      <td>False</td>\n",
       "      <td>good</td>\n",
       "      <td>no</td>\n",
       "    </tr>\n",
       "    <tr>\n",
       "      <th>2</th>\n",
       "      <td>young</td>\n",
       "      <td>True</td>\n",
       "      <td>good</td>\n",
       "      <td>yes</td>\n",
       "    </tr>\n",
       "    <tr>\n",
       "      <th>4</th>\n",
       "      <td>young</td>\n",
       "      <td>False</td>\n",
       "      <td>fair</td>\n",
       "      <td>no</td>\n",
       "    </tr>\n",
       "    <tr>\n",
       "      <th>5</th>\n",
       "      <td>middle</td>\n",
       "      <td>False</td>\n",
       "      <td>fair</td>\n",
       "      <td>no</td>\n",
       "    </tr>\n",
       "    <tr>\n",
       "      <th>6</th>\n",
       "      <td>middle</td>\n",
       "      <td>False</td>\n",
       "      <td>good</td>\n",
       "      <td>no</td>\n",
       "    </tr>\n",
       "    <tr>\n",
       "      <th>12</th>\n",
       "      <td>old</td>\n",
       "      <td>True</td>\n",
       "      <td>good</td>\n",
       "      <td>yes</td>\n",
       "    </tr>\n",
       "    <tr>\n",
       "      <th>13</th>\n",
       "      <td>old</td>\n",
       "      <td>True</td>\n",
       "      <td>excellent</td>\n",
       "      <td>yes</td>\n",
       "    </tr>\n",
       "    <tr>\n",
       "      <th>14</th>\n",
       "      <td>old</td>\n",
       "      <td>False</td>\n",
       "      <td>fair</td>\n",
       "      <td>no</td>\n",
       "    </tr>\n",
       "  </tbody>\n",
       "</table>\n",
       "</div>"
      ],
      "text/plain": [
       "       age  has_job credit_rating class\n",
       "0    young    False          fair    no\n",
       "1    young    False          good    no\n",
       "2    young     True          good   yes\n",
       "4    young    False          fair    no\n",
       "5   middle    False          fair    no\n",
       "6   middle    False          good    no\n",
       "12     old     True          good   yes\n",
       "13     old     True     excellent   yes\n",
       "14     old    False          fair    no"
      ]
     },
     "execution_count": 8,
     "metadata": {},
     "output_type": "execute_result"
    }
   ],
   "source": [
    "df[df['own_house'] == False].drop('own_house', axis=1)"
   ]
  },
  {
   "cell_type": "code",
   "execution_count": 10,
   "id": "b49b96be-ed0d-451d-88e7-d34cb9ef0a9a",
   "metadata": {},
   "outputs": [
    {
     "data": {
      "text/html": [
       "<div>\n",
       "<style scoped>\n",
       "    .dataframe tbody tr th:only-of-type {\n",
       "        vertical-align: middle;\n",
       "    }\n",
       "\n",
       "    .dataframe tbody tr th {\n",
       "        vertical-align: top;\n",
       "    }\n",
       "\n",
       "    .dataframe thead th {\n",
       "        text-align: right;\n",
       "    }\n",
       "</style>\n",
       "<table border=\"1\" class=\"dataframe\">\n",
       "  <thead>\n",
       "    <tr style=\"text-align: right;\">\n",
       "      <th></th>\n",
       "      <th>age</th>\n",
       "      <th>has_job</th>\n",
       "      <th>credit_rating</th>\n",
       "      <th>class</th>\n",
       "    </tr>\n",
       "  </thead>\n",
       "  <tbody>\n",
       "    <tr>\n",
       "      <th>0</th>\n",
       "      <td>young</td>\n",
       "      <td>False</td>\n",
       "      <td>fair</td>\n",
       "      <td>no</td>\n",
       "    </tr>\n",
       "    <tr>\n",
       "      <th>1</th>\n",
       "      <td>young</td>\n",
       "      <td>False</td>\n",
       "      <td>good</td>\n",
       "      <td>no</td>\n",
       "    </tr>\n",
       "    <tr>\n",
       "      <th>2</th>\n",
       "      <td>young</td>\n",
       "      <td>True</td>\n",
       "      <td>good</td>\n",
       "      <td>yes</td>\n",
       "    </tr>\n",
       "    <tr>\n",
       "      <th>4</th>\n",
       "      <td>young</td>\n",
       "      <td>False</td>\n",
       "      <td>fair</td>\n",
       "      <td>no</td>\n",
       "    </tr>\n",
       "    <tr>\n",
       "      <th>5</th>\n",
       "      <td>middle</td>\n",
       "      <td>False</td>\n",
       "      <td>fair</td>\n",
       "      <td>no</td>\n",
       "    </tr>\n",
       "    <tr>\n",
       "      <th>6</th>\n",
       "      <td>middle</td>\n",
       "      <td>False</td>\n",
       "      <td>good</td>\n",
       "      <td>no</td>\n",
       "    </tr>\n",
       "    <tr>\n",
       "      <th>12</th>\n",
       "      <td>old</td>\n",
       "      <td>True</td>\n",
       "      <td>good</td>\n",
       "      <td>yes</td>\n",
       "    </tr>\n",
       "    <tr>\n",
       "      <th>13</th>\n",
       "      <td>old</td>\n",
       "      <td>True</td>\n",
       "      <td>excellent</td>\n",
       "      <td>yes</td>\n",
       "    </tr>\n",
       "    <tr>\n",
       "      <th>14</th>\n",
       "      <td>old</td>\n",
       "      <td>False</td>\n",
       "      <td>fair</td>\n",
       "      <td>no</td>\n",
       "    </tr>\n",
       "  </tbody>\n",
       "</table>\n",
       "</div>"
      ],
      "text/plain": [
       "       age  has_job credit_rating class\n",
       "0    young    False          fair    no\n",
       "1    young    False          good    no\n",
       "2    young     True          good   yes\n",
       "4    young    False          fair    no\n",
       "5   middle    False          fair    no\n",
       "6   middle    False          good    no\n",
       "12     old     True          good   yes\n",
       "13     old     True     excellent   yes\n",
       "14     old    False          fair    no"
      ]
     },
     "execution_count": 10,
     "metadata": {},
     "output_type": "execute_result"
    }
   ],
   "source": [
    "df2 = df[df['own_house'] == False].drop('own_house', axis=1)\n",
    "df2"
   ]
  },
  {
   "cell_type": "markdown",
   "id": "491f334a-f123-4f92-aa0f-aab8d2307103",
   "metadata": {},
   "source": [
    "Now, let's reiterate the process that we performed."
   ]
  },
  {
   "cell_type": "code",
   "execution_count": 11,
   "id": "9a5b29df-1d46-4b81-8688-073c7b09069b",
   "metadata": {},
   "outputs": [
    {
     "name": "stdout",
     "output_type": "stream",
     "text": [
      "Entropy(D): 0.9182958340544896\n"
     ]
    }
   ],
   "source": [
    "n2 = len(df2)\n",
    "yes2 = (df2['class'] == 'yes').sum()\n",
    "no2 = (df2['class'] == 'no').sum()\n",
    "\n",
    "entropy_d2 = calc_entropy(yes2, no2, n2)\n",
    "print(f\"Entropy(D): {entropy_d2}\")"
   ]
  },
  {
   "cell_type": "code",
   "execution_count": 12,
   "id": "b3943000-645d-49c8-8a98-10d984184f9a",
   "metadata": {},
   "outputs": [
    {
     "name": "stdout",
     "output_type": "stream",
     "text": [
      "Entropy(young): 0.8112781244591328\n",
      "Entropy(middle): 0\n",
      "Entropy(old): 0.9182958340544896\n",
      "-----------------------------------\n",
      "Entropy(age): 0.6666666666666666\n",
      "Gain(age): 0.2516291673878229\n"
     ]
    }
   ],
   "source": [
    "# AGE\n",
    "\n",
    "age_young2_yes = (df2[df2['age'] == 'young']['class'] == 'yes').sum()\n",
    "age_young2_no = (df2[df2['age'] == 'young']['class'] == 'no').sum()\n",
    "\n",
    "age_middle2_yes = (df2[df2['age'] == 'middle']['class'] == 'yes').sum()\n",
    "age_middle2_no = (df2[df2['age'] == 'middle']['class'] == 'no').sum()\n",
    "\n",
    "age_old2_yes = (df2[df2['age'] == 'old']['class'] == 'yes').sum()\n",
    "age_old2_no = (df2[df2['age'] == 'old']['class'] == 'no').sum()\n",
    "\n",
    "entropy_young2 = calc_entropy(age_young2_yes, age_young2_no, age_young2_yes + age_young2_no)\n",
    "entropy_middle2 = calc_entropy(age_middle2_yes, age_middle2_no, age_middle2_yes + age_middle2_no)\n",
    "entropy_old2 = calc_entropy(age_old2_yes, age_old2_no, age_old2_yes + age_old2_no)\n",
    "\n",
    "print(f\"Entropy(young): {entropy_young2}\")\n",
    "print(f\"Entropy(middle): {entropy_middle2}\")\n",
    "print(f\"Entropy(old): {entropy_old2}\")\n",
    "print(f\"-\"*35)\n",
    "\n",
    "entropy_age2 =  df2['age'].value_counts()['young'] / n2 * entropy_young2 + \\\n",
    "                df2['age'].value_counts()['middle'] / n2 * entropy_middle2 + \\\n",
    "                df2['age'].value_counts()['old'] / n2 * entropy_old2\n",
    "\n",
    "gain_age2 = entropy_d2 - entropy_age2\n",
    "\n",
    "print(f\"Entropy(age): {entropy_age2}\")\n",
    "print(f\"Gain(age): {gain_age2}\")"
   ]
  },
  {
   "cell_type": "code",
   "execution_count": 14,
   "id": "bae0108a-d489-40c8-b6a9-b66674d53d38",
   "metadata": {},
   "outputs": [
    {
     "name": "stdout",
     "output_type": "stream",
     "text": [
      "Entropy(true): 0\n",
      "Entropy(false): 0\n",
      "-----------------------------------\n",
      "Entropy(has_job): 0.0\n",
      "Gain(has_job): 0.9182958340544896\n"
     ]
    }
   ],
   "source": [
    "# HAS JOB\n",
    "\n",
    "hasjob_true2_yes = (df2[df2['has_job'] == True]['class'] == 'yes').sum()\n",
    "hasjob_true2_no = (df2[df2['has_job'] == True]['class'] == 'no').sum()\n",
    "\n",
    "hasjob_false2_yes = (df2[df2['has_job'] == False]['class'] == 'yes').sum()\n",
    "hasjob_false2_no = (df2[df2['has_job'] == False]['class'] == 'no').sum()\n",
    "\n",
    "entropy_hj_true2 = calc_entropy(hasjob_true2_yes, hasjob_true2_no, hasjob_true2_yes + hasjob_true2_no)\n",
    "entropy_hj_false2 = calc_entropy(hasjob_false2_yes, hasjob_false2_no, hasjob_false2_yes + hasjob_false2_no)\n",
    "\n",
    "print(f\"Entropy(true): {entropy_hj_true2}\")\n",
    "print(f\"Entropy(false): {entropy_hj_false2}\")\n",
    "print(f\"-\"*35)\n",
    "\n",
    "entropy_hasjob2 =   df2['has_job'].value_counts()[True] / n2 * entropy_hj_true2 + \\\n",
    "                    df2['has_job'].value_counts()[False] / n2 * entropy_hj_false2\n",
    "\n",
    "gain_hasjob2 = entropy_d2 - entropy_hasjob2\n",
    "\n",
    "print(f\"Entropy(has_job): {entropy_hasjob2}\")\n",
    "print(f\"Gain(has_job): {gain_hasjob2}\")"
   ]
  },
  {
   "cell_type": "code",
   "execution_count": 15,
   "id": "e98c52af-fa58-4a02-8ecf-40fe76ad9eb1",
   "metadata": {},
   "outputs": [
    {
     "name": "stdout",
     "output_type": "stream",
     "text": [
      "Entropy(fair): 0\n",
      "Entropy(good): 1.0\n",
      "Entropy(excellent): 0\n",
      "-----------------------------------\n",
      "Entropy(credit_rating): 0.4444444444444444\n",
      "Gain(credit_rating): 0.47385138961004514\n"
     ]
    }
   ],
   "source": [
    "# CREDIT RATING\n",
    "\n",
    "creditrating_fair2_yes = (df2[df2['credit_rating'] == 'fair']['class'] == 'yes').sum()\n",
    "creditrating_fair2_no = (df2[df2['credit_rating'] == 'fair']['class'] == 'no').sum()\n",
    "\n",
    "creditrating_good2_yes = (df2[df2['credit_rating'] == 'good']['class'] == 'yes').sum()\n",
    "creditrating_good2_no = (df2[df2['credit_rating'] == 'good']['class'] == 'no').sum()\n",
    "\n",
    "creditrating_excellent2_yes = (df2[df2['credit_rating'] == 'excellent']['class'] == 'yes').sum()\n",
    "creditrating_excellent2_no = (df2[df2['credit_rating'] == 'excellent']['class'] == 'no').sum()\n",
    "\n",
    "entropy_fair2 = calc_entropy(creditrating_fair2_yes, creditrating_fair2_no, creditrating_fair2_yes + creditrating_fair2_no)\n",
    "entropy_good2 = calc_entropy(creditrating_good2_yes, creditrating_good2_no, creditrating_good2_yes + creditrating_good2_no)\n",
    "entropy_excellent2 = calc_entropy(creditrating_excellent2_yes, creditrating_excellent2_no, creditrating_excellent2_yes + creditrating_excellent2_no)\n",
    "\n",
    "print(f\"Entropy(fair): {entropy_fair2}\")\n",
    "print(f\"Entropy(good): {entropy_good2}\")\n",
    "print(f\"Entropy(excellent): {entropy_excellent2}\")\n",
    "print(f\"-\"*35)\n",
    "\n",
    "entropy_creditrating2 = df2['credit_rating'].value_counts()['fair'] / n2 * entropy_fair2 + \\\n",
    "                        df2['credit_rating'].value_counts()['good'] / n2 * entropy_good2 + \\\n",
    "                        df2['credit_rating'].value_counts()['excellent'] / n2 * entropy_excellent2\n",
    "\n",
    "gain_creditrating2 = entropy_d2 - entropy_creditrating2\n",
    "\n",
    "print(f\"Entropy(credit_rating): {entropy_creditrating2}\")\n",
    "print(f\"Gain(credit_rating): {gain_creditrating2}\")"
   ]
  },
  {
   "cell_type": "code",
   "execution_count": 16,
   "id": "3136421b-5060-4348-b807-7fb33b7ab9db",
   "metadata": {},
   "outputs": [
    {
     "data": {
      "text/html": [
       "<div>\n",
       "<style scoped>\n",
       "    .dataframe tbody tr th:only-of-type {\n",
       "        vertical-align: middle;\n",
       "    }\n",
       "\n",
       "    .dataframe tbody tr th {\n",
       "        vertical-align: top;\n",
       "    }\n",
       "\n",
       "    .dataframe thead th {\n",
       "        text-align: right;\n",
       "    }\n",
       "</style>\n",
       "<table border=\"1\" class=\"dataframe\">\n",
       "  <thead>\n",
       "    <tr style=\"text-align: right;\">\n",
       "      <th></th>\n",
       "      <th>Entropy</th>\n",
       "      <th>Gain</th>\n",
       "    </tr>\n",
       "  </thead>\n",
       "  <tbody>\n",
       "    <tr>\n",
       "      <th>age</th>\n",
       "      <td>0.666667</td>\n",
       "      <td>0.251629</td>\n",
       "    </tr>\n",
       "    <tr>\n",
       "      <th>has_job</th>\n",
       "      <td>0.000000</td>\n",
       "      <td>0.918296</td>\n",
       "    </tr>\n",
       "    <tr>\n",
       "      <th>credit_rating</th>\n",
       "      <td>0.444444</td>\n",
       "      <td>0.473851</td>\n",
       "    </tr>\n",
       "  </tbody>\n",
       "</table>\n",
       "</div>"
      ],
      "text/plain": [
       "                Entropy      Gain\n",
       "age            0.666667  0.251629\n",
       "has_job        0.000000  0.918296\n",
       "credit_rating  0.444444  0.473851"
      ]
     },
     "execution_count": 16,
     "metadata": {},
     "output_type": "execute_result"
    }
   ],
   "source": [
    "result2 = pd.DataFrame(data={'Entropy':[entropy_age2, entropy_hasjob2, entropy_creditrating2], \n",
    "                             'Gain':[gain_age2, gain_hasjob2, gain_creditrating2]}, index=df2.columns[:-1])\n",
    "result2"
   ]
  },
  {
   "cell_type": "markdown",
   "id": "24694026-2fc2-4ea0-b15b-3c10e9a5be2e",
   "metadata": {},
   "source": [
    "For the second iteration, the feature with the maximum information gain and the least entropy is the `has_job`, therefore, this feature will be used as the second decision node.\n",
    "\n",
    "<center><img src='figures/it2.png'></center>\n",
    "\n",
    "After the second iteration, as the entropy has reduced to zero, there is no need to repeat the process for each decision node. Consequently, among the four features, these two stand out as the most significant predictors for this dataset."
   ]
  },
  {
   "cell_type": "markdown",
   "id": "400f3efb-9b08-48f4-9be1-751baeeaf171",
   "metadata": {},
   "source": [
    "## Implementing Decision Tree Algorithm with Sklearn"
   ]
  },
  {
   "cell_type": "code",
   "execution_count": 9,
   "id": "8e63a912-e081-4f60-b752-69085b01af2d",
   "metadata": {},
   "outputs": [
    {
     "data": {
      "text/html": [
       "<style>#sk-container-id-1 {color: black;}#sk-container-id-1 pre{padding: 0;}#sk-container-id-1 div.sk-toggleable {background-color: white;}#sk-container-id-1 label.sk-toggleable__label {cursor: pointer;display: block;width: 100%;margin-bottom: 0;padding: 0.3em;box-sizing: border-box;text-align: center;}#sk-container-id-1 label.sk-toggleable__label-arrow:before {content: \"▸\";float: left;margin-right: 0.25em;color: #696969;}#sk-container-id-1 label.sk-toggleable__label-arrow:hover:before {color: black;}#sk-container-id-1 div.sk-estimator:hover label.sk-toggleable__label-arrow:before {color: black;}#sk-container-id-1 div.sk-toggleable__content {max-height: 0;max-width: 0;overflow: hidden;text-align: left;background-color: #f0f8ff;}#sk-container-id-1 div.sk-toggleable__content pre {margin: 0.2em;color: black;border-radius: 0.25em;background-color: #f0f8ff;}#sk-container-id-1 input.sk-toggleable__control:checked~div.sk-toggleable__content {max-height: 200px;max-width: 100%;overflow: auto;}#sk-container-id-1 input.sk-toggleable__control:checked~label.sk-toggleable__label-arrow:before {content: \"▾\";}#sk-container-id-1 div.sk-estimator input.sk-toggleable__control:checked~label.sk-toggleable__label {background-color: #d4ebff;}#sk-container-id-1 div.sk-label input.sk-toggleable__control:checked~label.sk-toggleable__label {background-color: #d4ebff;}#sk-container-id-1 input.sk-hidden--visually {border: 0;clip: rect(1px 1px 1px 1px);clip: rect(1px, 1px, 1px, 1px);height: 1px;margin: -1px;overflow: hidden;padding: 0;position: absolute;width: 1px;}#sk-container-id-1 div.sk-estimator {font-family: monospace;background-color: #f0f8ff;border: 1px dotted black;border-radius: 0.25em;box-sizing: border-box;margin-bottom: 0.5em;}#sk-container-id-1 div.sk-estimator:hover {background-color: #d4ebff;}#sk-container-id-1 div.sk-parallel-item::after {content: \"\";width: 100%;border-bottom: 1px solid gray;flex-grow: 1;}#sk-container-id-1 div.sk-label:hover label.sk-toggleable__label {background-color: #d4ebff;}#sk-container-id-1 div.sk-serial::before {content: \"\";position: absolute;border-left: 1px solid gray;box-sizing: border-box;top: 0;bottom: 0;left: 50%;z-index: 0;}#sk-container-id-1 div.sk-serial {display: flex;flex-direction: column;align-items: center;background-color: white;padding-right: 0.2em;padding-left: 0.2em;position: relative;}#sk-container-id-1 div.sk-item {position: relative;z-index: 1;}#sk-container-id-1 div.sk-parallel {display: flex;align-items: stretch;justify-content: center;background-color: white;position: relative;}#sk-container-id-1 div.sk-item::before, #sk-container-id-1 div.sk-parallel-item::before {content: \"\";position: absolute;border-left: 1px solid gray;box-sizing: border-box;top: 0;bottom: 0;left: 50%;z-index: -1;}#sk-container-id-1 div.sk-parallel-item {display: flex;flex-direction: column;z-index: 1;position: relative;background-color: white;}#sk-container-id-1 div.sk-parallel-item:first-child::after {align-self: flex-end;width: 50%;}#sk-container-id-1 div.sk-parallel-item:last-child::after {align-self: flex-start;width: 50%;}#sk-container-id-1 div.sk-parallel-item:only-child::after {width: 0;}#sk-container-id-1 div.sk-dashed-wrapped {border: 1px dashed gray;margin: 0 0.4em 0.5em 0.4em;box-sizing: border-box;padding-bottom: 0.4em;background-color: white;}#sk-container-id-1 div.sk-label label {font-family: monospace;font-weight: bold;display: inline-block;line-height: 1.2em;}#sk-container-id-1 div.sk-label-container {text-align: center;}#sk-container-id-1 div.sk-container {/* jupyter's `normalize.less` sets `[hidden] { display: none; }` but bootstrap.min.css set `[hidden] { display: none !important; }` so we also need the `!important` here to be able to override the default hidden behavior on the sphinx rendered scikit-learn.org. See: https://github.com/scikit-learn/scikit-learn/issues/21755 */display: inline-block !important;position: relative;}#sk-container-id-1 div.sk-text-repr-fallback {display: none;}</style><div id=\"sk-container-id-1\" class=\"sk-top-container\"><div class=\"sk-text-repr-fallback\"><pre>DecisionTreeClassifier(random_state=42)</pre><b>In a Jupyter environment, please rerun this cell to show the HTML representation or trust the notebook. <br />On GitHub, the HTML representation is unable to render, please try loading this page with nbviewer.org.</b></div><div class=\"sk-container\" hidden><div class=\"sk-item\"><div class=\"sk-estimator sk-toggleable\"><input class=\"sk-toggleable__control sk-hidden--visually\" id=\"sk-estimator-id-1\" type=\"checkbox\" checked><label for=\"sk-estimator-id-1\" class=\"sk-toggleable__label sk-toggleable__label-arrow\">DecisionTreeClassifier</label><div class=\"sk-toggleable__content\"><pre>DecisionTreeClassifier(random_state=42)</pre></div></div></div></div></div>"
      ],
      "text/plain": [
       "DecisionTreeClassifier(random_state=42)"
      ]
     },
     "execution_count": 9,
     "metadata": {},
     "output_type": "execute_result"
    }
   ],
   "source": [
    "enc = LabelEncoder()\n",
    "\n",
    "df3 = df.apply(enc.fit_transform)\n",
    "\n",
    "X = df3.iloc[:, :-1]\n",
    "y = df3['class']\n",
    "\n",
    "clf = tree.DecisionTreeClassifier(random_state=42, criterion='gini')\n",
    "clf.fit(X,y)"
   ]
  },
  {
   "cell_type": "code",
   "execution_count": 12,
   "id": "c5112cda-37a9-498b-81c3-39e22c3755dc",
   "metadata": {},
   "outputs": [
    {
     "data": {
      "text/plain": [
       "array([0, 0, 1, 1, 0, 0, 0, 1, 1, 1, 1, 1, 1, 1, 0])"
      ]
     },
     "execution_count": 12,
     "metadata": {},
     "output_type": "execute_result"
    }
   ],
   "source": [
    "clf.predict(X)"
   ]
  },
  {
   "cell_type": "code",
   "execution_count": 27,
   "id": "20746fd0-2487-40d8-8100-781bf2a5138f",
   "metadata": {},
   "outputs": [
    {
     "data": {
      "image/png": "[encoded data removed]",
      "text/plain": [
       "<Figure size 700x1000 with 1 Axes>"
      ]
     },
     "metadata": {},
     "output_type": "display_data"
    }
   ],
   "source": [
    "plt.figure(figsize=(7,10))\n",
    "tree.plot_tree(clf, filled=True, feature_names = list(df3.columns[:-1]), class_names=['no', 'yes']);"
   ]
  },
  {
   "cell_type": "code",
   "execution_count": null,
   "id": "23758c45-1887-4236-9ddd-212966bc1467",
   "metadata": {},
   "outputs": [],
   "source": []
  }
 ],
 "metadata": {
  "kernelspec": {
   "display_name": "Python 3 (ipykernel)",
   "language": "python",
   "name": "python3"
  },
  "language_info": {
   "codemirror_mode": {
    "name": "ipython",
    "version": 3
   },
   "file_extension": ".py",
   "mimetype": "text/x-python",
   "name": "python",
   "nbconvert_exporter": "python",
   "pygments_lexer": "ipython3",
   "version": "3.8.5"
  }
 },
 "nbformat": 4,
 "nbformat_minor": 5
}
