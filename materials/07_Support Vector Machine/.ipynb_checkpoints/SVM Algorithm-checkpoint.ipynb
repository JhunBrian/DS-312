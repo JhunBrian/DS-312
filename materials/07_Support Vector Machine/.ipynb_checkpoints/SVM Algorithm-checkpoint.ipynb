{
 "cells": [
  {
   "cell_type": "markdown",
   "id": "c6efddbe-3513-4426-95f7-e561ebfe1d54",
   "metadata": {},
   "source": [
    "# Support Vector Machine\n",
    "\n",
    "Instructor: Jhun Brian M. Andam </br>\n",
    "Course: Data Mining and Application"
   ]
  },
  {
   "cell_type": "markdown",
   "id": "871d30e2-0002-4941-984c-5e9efa1f5db6",
   "metadata": {},
   "source": [
    "Support vector machines were invented by V. Vapnik and his co-workers in 1970s in Russia and \n",
    "became known to the West in 1992 \r\n",
    "SVMs are line r classifiers that find a hyperplane to separate two class of data, positive an \r\n",
    "negat.ive"
   ]
  },
  {
   "cell_type": "markdown",
   "id": "dca9df77-3415-462a-9646-f57504a14345",
   "metadata": {},
   "source": [
    "\n",
    "In SVMs, the concept of separability is fundamental. Data points may exhibit distinct patterns: they can be effectively separated by a straight line or a hyperplane in some cases (linear separability), while in other scenarios, a more complex, non-linear boundary might be necessary for accurate classification.\n",
    "\n",
    "**Linearly Separable**\n",
    "- When data can be grouped or categorized by a straight line or hyperplane, a linear kernel is employed. SVMs with linear kernels are particularly useful in scenarios where the relationships between features are essentially linear.\r\n",
    "\n",
    "**Non-Linearly Separable**\n",
    "- In cases where the data does not conform to a linear pattern, non-linear kernels such as radial basis function ('rbf'), polynomial ('poly'), or sigmoid can be applied. These kernels allow SVMs to operate in higher-dimensional spaces, capturing intricate non-linear relationships.\r\n",
    "\n",
    "\n"
   ]
  },
  {
   "cell_type": "markdown",
   "id": "6f12ce68-2a76-428b-acd3-84c4a5596dcf",
   "metadata": {},
   "source": [
    "### Basic Concepts of SVM\n",
    "\n",
    "Support Vector Machines (SVM) are supervised machine learning algorithms used for classification and regression tasks. The primary goal of an SVM is to find a hyperplane that best separates the data into different classes.\r\n",
    "\r\n",
    "\r\n",
    "\r\n"
   ]
  },
  {
   "cell_type": "markdown",
   "id": "48ce80d8-a5ed-40b6-9871-2ed9b74d8299",
   "metadata": {},
   "source": [
    "1. The initial step is to determine whether your data exhibits linear or non-linear separability with respect to each class.\n",
    "\n",
    "<center><img src=\"figures/data.png\"></center>"
   ]
  },
  {
   "cell_type": "markdown",
   "id": "b74c1896-fe3a-4e59-b8ad-4e7418a21310",
   "metadata": {},
   "source": [
    "2. If your data is non-linearly separable, you must convert each data point into a feature space, through kernel functions (kernel trick).\n",
    "    - Linear\n",
    "    - Polynomial\n",
    "    - Radial Basis Function (RBF)\n",
    "    - Sigmoid Function\n",
    "    - Precomputed"
   ]
  },
  {
   "cell_type": "markdown",
   "id": "93fd69f7-941e-4a79-a098-0008d0f70ca9",
   "metadata": {},
   "source": [
    "3. The purpose of employing the kernel trick and transforming data into a higher-dimensional feature space is to make the data linearly separable.\n",
    "4. After applying the kernel trick, the algorithm identifies support vectors, which are the data points closest to the decision boundary in terms of class.\n",
    "5. This procedure will return alpha vectors (Lagrange multipliers) which will be used to calculate the weight vectors.\n",
    "\n",
    "\\begin{equation}\n",
    "    \\begin{Bmatrix}\n",
    "        \\sum_n{\\alpha_n \\cdot (\\tilde{S}_n \\cdot \\tilde{S}_n) = 1} && \\text{if Positive Class} \\\\\n",
    "        \\sum_n{\\alpha_n \\cdot (\\tilde{S}_n \\cdot \\tilde{S}_n) = -1} && \\text{if Negative Class}\n",
    "    \\end{Bmatrix}\n",
    "\\end{equation}\n",
    "\n",
    "6. The alpha vectors will be used to calculate the weight vector.\n",
    "\n",
    "\\begin{equation}\n",
    "    \\tilde{w} = \\sum_i x_i \\tilde{S}_i\n",
    "\\end{equation}\n",
    "\n",
    "7. The weight vector will be used to plot the decision boundary.\n",
    "\n",
    "\\begin{equation}\n",
    "    y = wx + b\n",
    "\\end{equation}"
   ]
  },
  {
   "cell_type": "markdown",
   "id": "edc2cc0a-17f6-437f-86f8-b2d5a35cf9a0",
   "metadata": {},
   "source": [
    "### Implementing SVM in SKlearn"
   ]
  },
  {
   "cell_type": "code",
   "execution_count": 178,
   "id": "1755d962-59cc-4cf4-bb24-0065cf1c10c2",
   "metadata": {},
   "outputs": [],
   "source": [
    "import numpy as np\n",
    "import matplotlib.pyplot as plt\n",
    "import seaborn as sns\n",
    "from sklearn.datasets import load_iris\n",
    "from sklearn.svm import SVC\n",
    "from sklearn.model_selection import train_test_split\n",
    "from sklearn.preprocessing import StandardScaler\n",
    "from sklearn.metrics import accuracy_score"
   ]
  },
  {
   "cell_type": "code",
   "execution_count": 149,
   "id": "d88f44be-94c3-468b-a775-68e456190062",
   "metadata": {},
   "outputs": [],
   "source": [
    "data = load_iris(as_frame=True)\n",
    "df = data['frame']"
   ]
  },
  {
   "cell_type": "code",
   "execution_count": 150,
   "id": "39ab8700-050c-4949-acb6-1ff43d9c0f4b",
   "metadata": {},
   "outputs": [
    {
     "data": {
      "text/html": [
       "<div>\n",
       "<style scoped>\n",
       "    .dataframe tbody tr th:only-of-type {\n",
       "        vertical-align: middle;\n",
       "    }\n",
       "\n",
       "    .dataframe tbody tr th {\n",
       "        vertical-align: top;\n",
       "    }\n",
       "\n",
       "    .dataframe thead th {\n",
       "        text-align: right;\n",
       "    }\n",
       "</style>\n",
       "<table border=\"1\" class=\"dataframe\">\n",
       "  <thead>\n",
       "    <tr style=\"text-align: right;\">\n",
       "      <th></th>\n",
       "      <th>sepal length (cm)</th>\n",
       "      <th>sepal width (cm)</th>\n",
       "      <th>petal length (cm)</th>\n",
       "      <th>petal width (cm)</th>\n",
       "      <th>target</th>\n",
       "    </tr>\n",
       "  </thead>\n",
       "  <tbody>\n",
       "    <tr>\n",
       "      <th>0</th>\n",
       "      <td>5.1</td>\n",
       "      <td>3.5</td>\n",
       "      <td>1.4</td>\n",
       "      <td>0.2</td>\n",
       "      <td>0</td>\n",
       "    </tr>\n",
       "    <tr>\n",
       "      <th>1</th>\n",
       "      <td>4.9</td>\n",
       "      <td>3.0</td>\n",
       "      <td>1.4</td>\n",
       "      <td>0.2</td>\n",
       "      <td>0</td>\n",
       "    </tr>\n",
       "    <tr>\n",
       "      <th>2</th>\n",
       "      <td>4.7</td>\n",
       "      <td>3.2</td>\n",
       "      <td>1.3</td>\n",
       "      <td>0.2</td>\n",
       "      <td>0</td>\n",
       "    </tr>\n",
       "    <tr>\n",
       "      <th>3</th>\n",
       "      <td>4.6</td>\n",
       "      <td>3.1</td>\n",
       "      <td>1.5</td>\n",
       "      <td>0.2</td>\n",
       "      <td>0</td>\n",
       "    </tr>\n",
       "    <tr>\n",
       "      <th>4</th>\n",
       "      <td>5.0</td>\n",
       "      <td>3.6</td>\n",
       "      <td>1.4</td>\n",
       "      <td>0.2</td>\n",
       "      <td>0</td>\n",
       "    </tr>\n",
       "  </tbody>\n",
       "</table>\n",
       "</div>"
      ],
      "text/plain": [
       "   sepal length (cm)  sepal width (cm)  petal length (cm)  petal width (cm)  \\\n",
       "0                5.1               3.5                1.4               0.2   \n",
       "1                4.9               3.0                1.4               0.2   \n",
       "2                4.7               3.2                1.3               0.2   \n",
       "3                4.6               3.1                1.5               0.2   \n",
       "4                5.0               3.6                1.4               0.2   \n",
       "\n",
       "   target  \n",
       "0       0  \n",
       "1       0  \n",
       "2       0  \n",
       "3       0  \n",
       "4       0  "
      ]
     },
     "execution_count": 150,
     "metadata": {},
     "output_type": "execute_result"
    }
   ],
   "source": [
    "df.head()"
   ]
  },
  {
   "cell_type": "code",
   "execution_count": 151,
   "id": "be8711ea-43aa-4d1f-85d7-93573d05bd97",
   "metadata": {},
   "outputs": [
    {
     "data": {
      "image/png": "[encoded data removed]",
      "text/plain": [
       "<Figure size 640x480 with 1 Axes>"
      ]
     },
     "metadata": {},
     "output_type": "display_data"
    }
   ],
   "source": [
    "sns.scatterplot(df, x='petal length (cm)', y='sepal length (cm)', hue='target')\n",
    "plt.show()"
   ]
  },
  {
   "cell_type": "code",
   "execution_count": 162,
   "id": "d60399ef-a0f5-4bbf-adb6-c32fb3f86bbd",
   "metadata": {},
   "outputs": [],
   "source": [
    "X = df[['petal length (cm)', 'sepal length (cm)']].values\n",
    "y = df['target'].values\n",
    "scaler = StandardScaler()\n",
    "\n",
    "X_train, X_test, y_train, y_test = train_test_split(scaler.fit_transform(X), y)"
   ]
  },
  {
   "cell_type": "code",
   "execution_count": 180,
   "id": "ffeeeec6-d3c1-4905-ab3c-b4f3a1093192",
   "metadata": {},
   "outputs": [
    {
     "data": {
      "text/html": [
       "<style>#sk-container-id-9 {color: black;}#sk-container-id-9 pre{padding: 0;}#sk-container-id-9 div.sk-toggleable {background-color: white;}#sk-container-id-9 label.sk-toggleable__label {cursor: pointer;display: block;width: 100%;margin-bottom: 0;padding: 0.3em;box-sizing: border-box;text-align: center;}#sk-container-id-9 label.sk-toggleable__label-arrow:before {content: \"▸\";float: left;margin-right: 0.25em;color: #696969;}#sk-container-id-9 label.sk-toggleable__label-arrow:hover:before {color: black;}#sk-container-id-9 div.sk-estimator:hover label.sk-toggleable__label-arrow:before {color: black;}#sk-container-id-9 div.sk-toggleable__content {max-height: 0;max-width: 0;overflow: hidden;text-align: left;background-color: #f0f8ff;}#sk-container-id-9 div.sk-toggleable__content pre {margin: 0.2em;color: black;border-radius: 0.25em;background-color: #f0f8ff;}#sk-container-id-9 input.sk-toggleable__control:checked~div.sk-toggleable__content {max-height: 200px;max-width: 100%;overflow: auto;}#sk-container-id-9 input.sk-toggleable__control:checked~label.sk-toggleable__label-arrow:before {content: \"▾\";}#sk-container-id-9 div.sk-estimator input.sk-toggleable__control:checked~label.sk-toggleable__label {background-color: #d4ebff;}#sk-container-id-9 div.sk-label input.sk-toggleable__control:checked~label.sk-toggleable__label {background-color: #d4ebff;}#sk-container-id-9 input.sk-hidden--visually {border: 0;clip: rect(1px 1px 1px 1px);clip: rect(1px, 1px, 1px, 1px);height: 1px;margin: -1px;overflow: hidden;padding: 0;position: absolute;width: 1px;}#sk-container-id-9 div.sk-estimator {font-family: monospace;background-color: #f0f8ff;border: 1px dotted black;border-radius: 0.25em;box-sizing: border-box;margin-bottom: 0.5em;}#sk-container-id-9 div.sk-estimator:hover {background-color: #d4ebff;}#sk-container-id-9 div.sk-parallel-item::after {content: \"\";width: 100%;border-bottom: 1px solid gray;flex-grow: 1;}#sk-container-id-9 div.sk-label:hover label.sk-toggleable__label {background-color: #d4ebff;}#sk-container-id-9 div.sk-serial::before {content: \"\";position: absolute;border-left: 1px solid gray;box-sizing: border-box;top: 0;bottom: 0;left: 50%;z-index: 0;}#sk-container-id-9 div.sk-serial {display: flex;flex-direction: column;align-items: center;background-color: white;padding-right: 0.2em;padding-left: 0.2em;position: relative;}#sk-container-id-9 div.sk-item {position: relative;z-index: 1;}#sk-container-id-9 div.sk-parallel {display: flex;align-items: stretch;justify-content: center;background-color: white;position: relative;}#sk-container-id-9 div.sk-item::before, #sk-container-id-9 div.sk-parallel-item::before {content: \"\";position: absolute;border-left: 1px solid gray;box-sizing: border-box;top: 0;bottom: 0;left: 50%;z-index: -1;}#sk-container-id-9 div.sk-parallel-item {display: flex;flex-direction: column;z-index: 1;position: relative;background-color: white;}#sk-container-id-9 div.sk-parallel-item:first-child::after {align-self: flex-end;width: 50%;}#sk-container-id-9 div.sk-parallel-item:last-child::after {align-self: flex-start;width: 50%;}#sk-container-id-9 div.sk-parallel-item:only-child::after {width: 0;}#sk-container-id-9 div.sk-dashed-wrapped {border: 1px dashed gray;margin: 0 0.4em 0.5em 0.4em;box-sizing: border-box;padding-bottom: 0.4em;background-color: white;}#sk-container-id-9 div.sk-label label {font-family: monospace;font-weight: bold;display: inline-block;line-height: 1.2em;}#sk-container-id-9 div.sk-label-container {text-align: center;}#sk-container-id-9 div.sk-container {/* jupyter's `normalize.less` sets `[hidden] { display: none; }` but bootstrap.min.css set `[hidden] { display: none !important; }` so we also need the `!important` here to be able to override the default hidden behavior on the sphinx rendered scikit-learn.org. See: https://github.com/scikit-learn/scikit-learn/issues/21755 */display: inline-block !important;position: relative;}#sk-container-id-9 div.sk-text-repr-fallback {display: none;}</style><div id=\"sk-container-id-9\" class=\"sk-top-container\"><div class=\"sk-text-repr-fallback\"><pre>SVC(probability=True)</pre><b>In a Jupyter environment, please rerun this cell to show the HTML representation or trust the notebook. <br />On GitHub, the HTML representation is unable to render, please try loading this page with nbviewer.org.</b></div><div class=\"sk-container\" hidden><div class=\"sk-item\"><div class=\"sk-estimator sk-toggleable\"><input class=\"sk-toggleable__control sk-hidden--visually\" id=\"sk-estimator-id-9\" type=\"checkbox\" checked><label for=\"sk-estimator-id-9\" class=\"sk-toggleable__label sk-toggleable__label-arrow\">SVC</label><div class=\"sk-toggleable__content\"><pre>SVC(probability=True)</pre></div></div></div></div></div>"
      ],
      "text/plain": [
       "SVC(probability=True)"
      ]
     },
     "execution_count": 180,
     "metadata": {},
     "output_type": "execute_result"
    }
   ],
   "source": [
    "clf = SVC(kernel='rbf', probability=True)\n",
    "clf.fit(X_train, y_train)"
   ]
  },
  {
   "cell_type": "code",
   "execution_count": 181,
   "id": "488c3814-a94b-4159-b608-cad1d1984ac3",
   "metadata": {},
   "outputs": [
    {
     "data": {
      "text/plain": [
       "array([1, 0, 1, 0, 1, 2, 2, 1, 0, 1, 0, 2, 2, 1, 1, 2, 2, 0, 1, 1, 2, 0,\n",
       "       2, 0, 2, 1, 2, 1, 0, 1, 2, 0, 0, 2, 2, 1, 1, 1])"
      ]
     },
     "execution_count": 181,
     "metadata": {},
     "output_type": "execute_result"
    }
   ],
   "source": [
    "y_pred = clf.predict(X_test)\n",
    "y_test"
   ]
  },
  {
   "cell_type": "code",
   "execution_count": 182,
   "id": "548ea1f5-c4b7-4f95-bec9-be227e2e955f",
   "metadata": {},
   "outputs": [
    {
     "data": {
      "text/plain": [
       "array([[0.01048254, 0.88329745, 0.10622002],\n",
       "       [0.96969871, 0.01696466, 0.01333662],\n",
       "       [0.00965386, 0.6597525 , 0.33059363],\n",
       "       [0.96796284, 0.0198032 , 0.01223396],\n",
       "       [0.06011627, 0.8571525 , 0.08273123],\n",
       "       [0.01143159, 0.04750074, 0.94106767],\n",
       "       [0.01160062, 0.1057012 , 0.88269818],\n",
       "       [0.00773895, 0.93534164, 0.05691941],\n",
       "       [0.94558542, 0.03972827, 0.01468632],\n",
       "       [0.01309117, 0.77595701, 0.21095182],\n",
       "       [0.96796284, 0.0198032 , 0.01223396],\n",
       "       [0.01153333, 0.31874314, 0.66972353],\n",
       "       [0.0112384 , 0.0313586 , 0.957403  ],\n",
       "       [0.00806   , 0.82602317, 0.16591683],\n",
       "       [0.01439129, 0.88344248, 0.10216622],\n",
       "       [0.01787447, 0.04335188, 0.93877364],\n",
       "       [0.0112384 , 0.0313586 , 0.957403  ],\n",
       "       [0.9607013 , 0.01914266, 0.02015604],\n",
       "       [0.01000163, 0.91624381, 0.07375456],\n",
       "       [0.01117974, 0.66645316, 0.32236709],\n",
       "       [0.01218167, 0.03721637, 0.95060196],\n",
       "       [0.97465868, 0.01346817, 0.01187315],\n",
       "       [0.01199071, 0.04551028, 0.94249901],\n",
       "       [0.96292888, 0.020325  , 0.01674612],\n",
       "       [0.00859726, 0.26226784, 0.72913491],\n",
       "       [0.00573456, 0.79744316, 0.19682228],\n",
       "       [0.00859726, 0.26226784, 0.72913491],\n",
       "       [0.00863373, 0.95918559, 0.03218067],\n",
       "       [0.92401136, 0.03912257, 0.03686607],\n",
       "       [0.00957123, 0.83015212, 0.16027665],\n",
       "       [0.01205111, 0.03247583, 0.95547305],\n",
       "       [0.96337122, 0.02399121, 0.01263756],\n",
       "       [0.96337122, 0.02399121, 0.01263756],\n",
       "       [0.01305581, 0.19762237, 0.78932182],\n",
       "       [0.00787165, 0.3722018 , 0.61992655],\n",
       "       [0.01334702, 0.88514764, 0.10150534],\n",
       "       [0.00982632, 0.96028895, 0.02988473],\n",
       "       [0.00864154, 0.92338108, 0.06797738]])"
      ]
     },
     "execution_count": 182,
     "metadata": {},
     "output_type": "execute_result"
    }
   ],
   "source": [
    "clf.predict_proba(X_test)"
   ]
  },
  {
   "cell_type": "code",
   "execution_count": 183,
   "id": "5adad08b-6e60-4caf-af61-878e2027cf3e",
   "metadata": {},
   "outputs": [
    {
     "data": {
      "text/plain": [
       "1.0"
      ]
     },
     "execution_count": 183,
     "metadata": {},
     "output_type": "execute_result"
    }
   ],
   "source": [
    "accuracy_score(y_test, y_pred)"
   ]
  },
  {
   "cell_type": "code",
   "execution_count": null,
   "id": "72beb167-4f57-438c-be98-9ac2eeef3617",
   "metadata": {},
   "outputs": [],
   "source": []
  }
 ],
 "metadata": {
  "kernelspec": {
   "display_name": "Python 3 (ipykernel)",
   "language": "python",
   "name": "python3"
  },
  "language_info": {
   "codemirror_mode": {
    "name": "ipython",
    "version": 3
   },
   "file_extension": ".py",
   "mimetype": "text/x-python",
   "name": "python",
   "nbconvert_exporter": "python",
   "pygments_lexer": "ipython3",
   "version": "3.8.5"
  }
 },
 "nbformat": 4,
 "nbformat_minor": 5
}
