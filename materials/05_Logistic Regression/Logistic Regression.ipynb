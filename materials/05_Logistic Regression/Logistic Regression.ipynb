{
 "cells": [
  {
   "cell_type": "markdown",
   "id": "e5877ba3-ea65-47cf-a153-48e1802e0871",
   "metadata": {},
   "source": [
    "# Logistic Regression\n",
    "\n",
    "Instructor: Jhun Brian M. Andam </br>\n",
    "Course: DS312 - Data Mining and Application\n",
    "\n",
    "Name: `Your name`</br>\n",
    "Date:"
   ]
  },
  {
   "cell_type": "markdown",
   "id": "c071631f-f626-400e-af77-3619f9a81c5e",
   "metadata": {},
   "source": [
    "### What is Logistic Regression?\n",
    "\n",
    "**Logistic Regression** is a `classification` method used to predict target or dependent variable `Y` given the set of predictors or independent variable `X` *(i.e. having a dependent variable that is categorical.)*\n",
    "\n",
    "<div class=\"alert alert-block alert-success\"><b>Remember: </b></br>\n",
    "\n",
    "<b><i>Dependent Variable (Y)</i></b> is the target or response variable having values like 0 or 1, Yes or No (for binary classification which is the use case for logistic regression) </br>\n",
    "\n",
    "<b><i>Independent Variable (X)</i></b> is the predictor variable used to predict the target or response variable</div>\n",
    "\n",
    "Logistic regression is similar to linear regression, except that **Logistic Regression** predicts whether something is true or false (0 or 1, yes or no), instead of predicted something continuous, like house price!"
   ]
  },
  {
   "cell_type": "markdown",
   "id": "34718e9d-f909-4436-b9c1-ecefe2c43b6c",
   "metadata": {},
   "source": [
    "\\begin{equation}\n",
    "    \\hat{y} = mx + b\n",
    "\\end{equation}\n",
    "\\begin{equation}\n",
    "    \\sigma = \\frac{1}{1+e^{-\\hat{y}}}\n",
    "\\end{equation}"
   ]
  },
  {
   "attachments": {},
   "cell_type": "markdown",
   "id": "0b187a61-cf51-4eb2-86ef-c369ea4942c7",
   "metadata": {},
   "source": [
    "### Python Implementation"
   ]
  },
  {
   "cell_type": "markdown",
   "id": "74177e61-7ba9-4ae8-bbcf-9305c254f1e8",
   "metadata": {},
   "source": [
    "**Import Libraries**"
   ]
  },
  {
   "cell_type": "code",
   "execution_count": 1,
   "id": "2d2a33fb-8ff2-495d-8384-41d19ede8282",
   "metadata": {},
   "outputs": [],
   "source": [
    "import pandas as pd\n",
    "import numpy as np\n",
    "import seaborn as sns\n",
    "import matplotlib.pyplot as plt\n",
    "\n",
    "from sklearn.model_selection import train_test_split as tts\n",
    "from sklearn.linear_model import LogisticRegression\n",
    "from sklearn.metrics import classification_report\n",
    "\n",
    "sns.set_theme(font='Times New Roman')\n",
    "%matplotlib inline"
   ]
  },
  {
   "cell_type": "markdown",
   "id": "9bfc714b-cc00-4f18-b673-3831bbbccd3d",
   "metadata": {},
   "source": [
    "**Load Data**"
   ]
  },
  {
   "cell_type": "code",
   "execution_count": 4,
   "id": "7d8b3bf0-2ad5-4a01-8c58-2a939bc42cd8",
   "metadata": {},
   "outputs": [
    {
     "data": {
      "text/html": [
       "<div>\n",
       "<style scoped>\n",
       "    .dataframe tbody tr th:only-of-type {\n",
       "        vertical-align: middle;\n",
       "    }\n",
       "\n",
       "    .dataframe tbody tr th {\n",
       "        vertical-align: top;\n",
       "    }\n",
       "\n",
       "    .dataframe thead th {\n",
       "        text-align: right;\n",
       "    }\n",
       "</style>\n",
       "<table border=\"1\" class=\"dataframe\">\n",
       "  <thead>\n",
       "    <tr style=\"text-align: right;\">\n",
       "      <th></th>\n",
       "      <th>Disease</th>\n",
       "      <th>Age</th>\n",
       "      <th>Gender</th>\n",
       "      <th>Smoker status</th>\n",
       "    </tr>\n",
       "  </thead>\n",
       "  <tbody>\n",
       "    <tr>\n",
       "      <th>0</th>\n",
       "      <td>0</td>\n",
       "      <td>43</td>\n",
       "      <td>1</td>\n",
       "      <td>1</td>\n",
       "    </tr>\n",
       "    <tr>\n",
       "      <th>1</th>\n",
       "      <td>1</td>\n",
       "      <td>18</td>\n",
       "      <td>1</td>\n",
       "      <td>1</td>\n",
       "    </tr>\n",
       "    <tr>\n",
       "      <th>2</th>\n",
       "      <td>0</td>\n",
       "      <td>22</td>\n",
       "      <td>0</td>\n",
       "      <td>0</td>\n",
       "    </tr>\n",
       "    <tr>\n",
       "      <th>3</th>\n",
       "      <td>0</td>\n",
       "      <td>25</td>\n",
       "      <td>1</td>\n",
       "      <td>0</td>\n",
       "    </tr>\n",
       "    <tr>\n",
       "      <th>4</th>\n",
       "      <td>1</td>\n",
       "      <td>45</td>\n",
       "      <td>0</td>\n",
       "      <td>1</td>\n",
       "    </tr>\n",
       "  </tbody>\n",
       "</table>\n",
       "</div>"
      ],
      "text/plain": [
       "   Disease  Age  Gender  Smoker status\n",
       "0        0   43       1              1\n",
       "1        1   18       1              1\n",
       "2        0   22       0              0\n",
       "3        0   25       1              0\n",
       "4        1   45       0              1"
      ]
     },
     "execution_count": 4,
     "metadata": {},
     "output_type": "execute_result"
    }
   ],
   "source": [
    "df = pd.read_excel('data.xlsx')\n",
    "df['Disease'] = df['Disease'].astype('category').cat.codes\n",
    "df['Gender'] = df['Gender'].astype('category').cat.codes\n",
    "df['Smoker status'] = df['Smoker status'].astype('category').cat.codes\n",
    "df.head()"
   ]
  },
  {
   "cell_type": "code",
   "execution_count": 5,
   "id": "d001aab5-dec5-4f12-8b1b-df1edc4ae8b1",
   "metadata": {},
   "outputs": [
    {
     "data": {
      "image/png": "[encoded data removed]",
      "text/plain": [
       "<Figure size 640x480 with 1 Axes>"
      ]
     },
     "metadata": {},
     "output_type": "display_data"
    }
   ],
   "source": [
    "plt.scatter(df['Age'], df['Disease'])\n",
    "plt.ylabel('0 = False, 1 = True')\n",
    "plt.xlabel('Age')\n",
    "plt.show()"
   ]
  },
  {
   "cell_type": "markdown",
   "id": "0f345cb7-71e9-4406-a6f6-f15340a1e6f4",
   "metadata": {},
   "source": [
    "<div class=\"alert alert-block alert-warning\"><b>Question: </b> What will happen if we fit a linear regression line for this task?</div>\n",
    "\n",
    "*Answer:*"
   ]
  },
  {
   "cell_type": "markdown",
   "id": "ac6ecc7b-57eb-426e-af78-32e05ef66a96",
   "metadata": {},
   "source": [
    "**Prepare Data**\n",
    "- Split Data"
   ]
  },
  {
   "cell_type": "code",
   "execution_count": 8,
   "id": "e02c5f91-1e26-414d-8214-f8e338ed5d80",
   "metadata": {},
   "outputs": [
    {
     "name": "stdout",
     "output_type": "stream",
     "text": [
      "(32, 3) (32,)\n",
      "(4, 3) (4,)\n"
     ]
    }
   ],
   "source": [
    "X = df.iloc[:, 1:]\n",
    "y = df['Disease']\n",
    "\n",
    "X_train, X_test, y_train, y_test = tts(X, y, train_size=0.9, random_state=42) \n",
    "\n",
    "print(X_train.shape, y_train.shape)\n",
    "print(X_test.shape, y_test.shape)"
   ]
  },
  {
   "cell_type": "markdown",
   "id": "98e4f5ef-df42-43ae-8602-f3fa31421656",
   "metadata": {},
   "source": [
    "**Train Model**"
   ]
  },
  {
   "cell_type": "code",
   "execution_count": 10,
   "id": "a3c14b8d-5e1a-4b5d-82f9-ba459758fb26",
   "metadata": {},
   "outputs": [
    {
     "data": {
      "text/html": [
       "<style>#sk-container-id-2 {color: black;}#sk-container-id-2 pre{padding: 0;}#sk-container-id-2 div.sk-toggleable {background-color: white;}#sk-container-id-2 label.sk-toggleable__label {cursor: pointer;display: block;width: 100%;margin-bottom: 0;padding: 0.3em;box-sizing: border-box;text-align: center;}#sk-container-id-2 label.sk-toggleable__label-arrow:before {content: \"▸\";float: left;margin-right: 0.25em;color: #696969;}#sk-container-id-2 label.sk-toggleable__label-arrow:hover:before {color: black;}#sk-container-id-2 div.sk-estimator:hover label.sk-toggleable__label-arrow:before {color: black;}#sk-container-id-2 div.sk-toggleable__content {max-height: 0;max-width: 0;overflow: hidden;text-align: left;background-color: #f0f8ff;}#sk-container-id-2 div.sk-toggleable__content pre {margin: 0.2em;color: black;border-radius: 0.25em;background-color: #f0f8ff;}#sk-container-id-2 input.sk-toggleable__control:checked~div.sk-toggleable__content {max-height: 200px;max-width: 100%;overflow: auto;}#sk-container-id-2 input.sk-toggleable__control:checked~label.sk-toggleable__label-arrow:before {content: \"▾\";}#sk-container-id-2 div.sk-estimator input.sk-toggleable__control:checked~label.sk-toggleable__label {background-color: #d4ebff;}#sk-container-id-2 div.sk-label input.sk-toggleable__control:checked~label.sk-toggleable__label {background-color: #d4ebff;}#sk-container-id-2 input.sk-hidden--visually {border: 0;clip: rect(1px 1px 1px 1px);clip: rect(1px, 1px, 1px, 1px);height: 1px;margin: -1px;overflow: hidden;padding: 0;position: absolute;width: 1px;}#sk-container-id-2 div.sk-estimator {font-family: monospace;background-color: #f0f8ff;border: 1px dotted black;border-radius: 0.25em;box-sizing: border-box;margin-bottom: 0.5em;}#sk-container-id-2 div.sk-estimator:hover {background-color: #d4ebff;}#sk-container-id-2 div.sk-parallel-item::after {content: \"\";width: 100%;border-bottom: 1px solid gray;flex-grow: 1;}#sk-container-id-2 div.sk-label:hover label.sk-toggleable__label {background-color: #d4ebff;}#sk-container-id-2 div.sk-serial::before {content: \"\";position: absolute;border-left: 1px solid gray;box-sizing: border-box;top: 0;bottom: 0;left: 50%;z-index: 0;}#sk-container-id-2 div.sk-serial {display: flex;flex-direction: column;align-items: center;background-color: white;padding-right: 0.2em;padding-left: 0.2em;position: relative;}#sk-container-id-2 div.sk-item {position: relative;z-index: 1;}#sk-container-id-2 div.sk-parallel {display: flex;align-items: stretch;justify-content: center;background-color: white;position: relative;}#sk-container-id-2 div.sk-item::before, #sk-container-id-2 div.sk-parallel-item::before {content: \"\";position: absolute;border-left: 1px solid gray;box-sizing: border-box;top: 0;bottom: 0;left: 50%;z-index: -1;}#sk-container-id-2 div.sk-parallel-item {display: flex;flex-direction: column;z-index: 1;position: relative;background-color: white;}#sk-container-id-2 div.sk-parallel-item:first-child::after {align-self: flex-end;width: 50%;}#sk-container-id-2 div.sk-parallel-item:last-child::after {align-self: flex-start;width: 50%;}#sk-container-id-2 div.sk-parallel-item:only-child::after {width: 0;}#sk-container-id-2 div.sk-dashed-wrapped {border: 1px dashed gray;margin: 0 0.4em 0.5em 0.4em;box-sizing: border-box;padding-bottom: 0.4em;background-color: white;}#sk-container-id-2 div.sk-label label {font-family: monospace;font-weight: bold;display: inline-block;line-height: 1.2em;}#sk-container-id-2 div.sk-label-container {text-align: center;}#sk-container-id-2 div.sk-container {/* jupyter's `normalize.less` sets `[hidden] { display: none; }` but bootstrap.min.css set `[hidden] { display: none !important; }` so we also need the `!important` here to be able to override the default hidden behavior on the sphinx rendered scikit-learn.org. See: https://github.com/scikit-learn/scikit-learn/issues/21755 */display: inline-block !important;position: relative;}#sk-container-id-2 div.sk-text-repr-fallback {display: none;}</style><div id=\"sk-container-id-2\" class=\"sk-top-container\"><div class=\"sk-text-repr-fallback\"><pre>LogisticRegression()</pre><b>In a Jupyter environment, please rerun this cell to show the HTML representation or trust the notebook. <br />On GitHub, the HTML representation is unable to render, please try loading this page with nbviewer.org.</b></div><div class=\"sk-container\" hidden><div class=\"sk-item\"><div class=\"sk-estimator sk-toggleable\"><input class=\"sk-toggleable__control sk-hidden--visually\" id=\"sk-estimator-id-2\" type=\"checkbox\" checked><label for=\"sk-estimator-id-2\" class=\"sk-toggleable__label sk-toggleable__label-arrow\">LogisticRegression</label><div class=\"sk-toggleable__content\"><pre>LogisticRegression()</pre></div></div></div></div></div>"
      ],
      "text/plain": [
       "LogisticRegression()"
      ]
     },
     "execution_count": 10,
     "metadata": {},
     "output_type": "execute_result"
    }
   ],
   "source": [
    "model = LogisticRegression()\n",
    "model.fit(X_train, y_train)"
   ]
  },
  {
   "cell_type": "markdown",
   "id": "25ba0acc-66a2-4246-8de6-e923b12b22be",
   "metadata": {},
   "source": [
    "<div class=\"alert alert-block alert-warning\"><b>To-do: </b> Try tweaking the parameters and list down your observations and assumptions.</div>\n",
    "\n",
    "*Observations:*\n",
    "- *Observations here*"
   ]
  },
  {
   "cell_type": "code",
   "execution_count": 101,
   "id": "ac1910e5-e32c-41a4-a05e-a7347850b045",
   "metadata": {},
   "outputs": [],
   "source": [
    "# experiment on the model parameters here"
   ]
  },
  {
   "cell_type": "markdown",
   "id": "50897536-7b89-45be-8c89-967ede6be0f5",
   "metadata": {},
   "source": [
    "**Evaluate Model**"
   ]
  },
  {
   "cell_type": "code",
   "execution_count": 106,
   "id": "00d4b148-dfac-4c78-b646-7cb3d9b1ac8e",
   "metadata": {},
   "outputs": [
    {
     "name": "stdout",
     "output_type": "stream",
     "text": [
      "              precision    recall  f1-score   support\n",
      "\n",
      "           0       1.00      0.67      0.80         3\n",
      "           1       0.50      1.00      0.67         1\n",
      "\n",
      "    accuracy                           0.75         4\n",
      "   macro avg       0.75      0.83      0.73         4\n",
      "weighted avg       0.88      0.75      0.77         4\n",
      "\n"
     ]
    }
   ],
   "source": [
    "y_pred = model.predict(X_test)\n",
    "\n",
    "print(classification_report(y_test, y_pred))"
   ]
  },
  {
   "cell_type": "markdown",
   "id": "306258d8-0621-4f78-ad87-782670f7905e",
   "metadata": {},
   "source": [
    "<div class=\"alert alert-block alert-warning\"><b>Question: </b> Do you think this is a good score?</div>\n",
    "\n",
    "*Answer:*"
   ]
  },
  {
   "cell_type": "markdown",
   "id": "faf6eb96-0458-4927-83fd-f2ca7b1e9ee0",
   "metadata": {},
   "source": [
    "**Training Evaluation Metrics**"
   ]
  },
  {
   "cell_type": "code",
   "execution_count": 110,
   "id": "34fab19e-286a-4f7f-921d-e3ba4755fb20",
   "metadata": {},
   "outputs": [
    {
     "name": "stdout",
     "output_type": "stream",
     "text": [
      "              precision    recall  f1-score   support\n",
      "\n",
      "           0       0.83      0.59      0.69        17\n",
      "           1       0.65      0.87      0.74        15\n",
      "\n",
      "    accuracy                           0.72        32\n",
      "   macro avg       0.74      0.73      0.72        32\n",
      "weighted avg       0.75      0.72      0.71        32\n",
      "\n"
     ]
    }
   ],
   "source": [
    "print(classification_report(y_train, model.predict(X_train)))"
   ]
  },
  {
   "cell_type": "markdown",
   "id": "a7e6cf34-89d5-49ba-889f-bd347ccbf39f",
   "metadata": {},
   "source": [
    "<div class=\"alert alert-block alert-warning\"><b>Question: </b> Why is the train accuracy lower than the test accuracy?</div>\n",
    "\n",
    "*Answer:*"
   ]
  },
  {
   "cell_type": "markdown",
   "id": "6158973b-ed45-4c9b-9e75-74113b7d6a41",
   "metadata": {},
   "source": [
    "<div class=\"alert alert-block alert-warning\"><b>Question: </b> Can logistic regression be used for a multi-class classification task?</div>\n",
    "\n",
    "*Answer:*"
   ]
  },
  {
   "cell_type": "code",
   "execution_count": null,
   "id": "404b7f4f-9e18-4d41-a897-56a0bf013075",
   "metadata": {},
   "outputs": [],
   "source": [
    "# EDA (free style)\n",
    "# X , y\n",
    "# split\n",
    "\n",
    "# model = Model() (what are the best parameters)\n",
    "\n",
    "# model.fit(X_train, y_train)\n",
    "# model.score(X_test, y_test)"
   ]
  }
 ],
 "metadata": {
  "kernelspec": {
   "display_name": "Python 3 (ipykernel)",
   "language": "python",
   "name": "python3"
  },
  "language_info": {
   "codemirror_mode": {
    "name": "ipython",
    "version": 3
   },
   "file_extension": ".py",
   "mimetype": "text/x-python",
   "name": "python",
   "nbconvert_exporter": "python",
   "pygments_lexer": "ipython3",
   "version": "3.8.5"
  }
 },
 "nbformat": 4,
 "nbformat_minor": 5
}
