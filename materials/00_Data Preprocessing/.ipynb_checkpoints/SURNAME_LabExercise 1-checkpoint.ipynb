{
 "cells": [
  {
   "cell_type": "markdown",
   "id": "bd61c005-6afb-4577-9c78-bda0e6abce19",
   "metadata": {},
   "source": [
    "# Laboratory Exercise 1\n",
    "**Python Review (`pandas` x `numpy`)**\n",
    "\n",
    "The objective of this exercise is to reinforce your foundational knowledge of Python and reestablish your skills about the libraries that are essential for data-driven tasks, including `numpy`, `pandas`, and `matplotlib`. Through this exercise, we will revisit fundamental Python concepts and engage in hands-on experience with data preprocessing techniques, which are crucial for data mining.\n",
    "\n",
    "**Name:** \\\n",
    "**Date:**"
   ]
  },
  {
   "cell_type": "markdown",
   "id": "2ef70a5f-0f62-46eb-ad18-5f3ce7e2b89c",
   "metadata": {
    "jp-MarkdownHeadingCollapsed": true
   },
   "source": [
    "## `Import Libraries`\n",
    "\n",
    "- pandas\n",
    "- numpy\n",
    "- seaborn\n",
    "- pyplot"
   ]
  },
  {
   "cell_type": "code",
   "execution_count": 1,
   "id": "51c6abbf-f86a-4c47-b2ef-181fed713ad2",
   "metadata": {},
   "outputs": [],
   "source": [
    "# code here"
   ]
  },
  {
   "cell_type": "markdown",
   "id": "7ccb10ed-77dd-479e-91d3-0790d4d2c567",
   "metadata": {
    "jp-MarkdownHeadingCollapsed": true
   },
   "source": [
    "## `Load Titanic Dataset`\n",
    "\n",
    "*Use the link to access the dataset.*\n",
    "- https://raw.githubusercontent.com/datasciencedojo/datasets/master/titanic.csv\n",
    "\n",
    "<table>\n",
    "    <tr>\n",
    "        <th>Variable</th>\n",
    "        <th>Description</th>\n",
    "        <th>Key</th>\n",
    "    </tr>\n",
    "    <tr>\n",
    "        <td>PassengerId</td>\n",
    "        <td>Passenger ID</td>\n",
    "        <td></td>\n",
    "    </tr>\n",
    "    <tr>\n",
    "        <td>Survived</td>\n",
    "        <td>Survived the Titanic or not</td>\n",
    "        <td>0=No, 1=Yes</td>\n",
    "    </tr>\n",
    "    <tr>\n",
    "        <td>Pclass</td>\n",
    "        <td>Ticket class</td>\n",
    "        <td>1=1st, 2=2nd, 3=3rd</td>\n",
    "    </tr>\n",
    "    <tr>\n",
    "        <td>Name</td>\n",
    "        <td>Passenger's name</td>\n",
    "        <td></td>\n",
    "    </tr>\n",
    "    <tr>\n",
    "        <td>Sex</td>\n",
    "        <td>Passenger's sex</td>\n",
    "        <td></td>\n",
    "    </tr>\n",
    "    <tr>\n",
    "        <td>Age</td>\n",
    "        <td>Passenger's age</td>\n",
    "        <td></td>\n",
    "    </tr>\n",
    "    <tr>\n",
    "        <td>SibSp</td>\n",
    "        <td>Numbers of siblings or spouses aboard</td>\n",
    "        <td></td>\n",
    "    </tr>\n",
    "    <tr>\n",
    "        <td>ParCh</td>\n",
    "        <td>Numbers of parents or children aboard</td>\n",
    "        <td></td>\n",
    "    </tr>\n",
    "    <tr>\n",
    "        <td>Ticket</td>\n",
    "        <td>Ticket number</td>\n",
    "        <td></td>\n",
    "    </tr>\n",
    "    <tr>\n",
    "        <td>Fare</td>\n",
    "        <td>Passenger fare</td>\n",
    "        <td></td>\n",
    "    </tr>\n",
    "    <tr>\n",
    "        <td>Cabin</td>\n",
    "        <td>Cabin number</td>\n",
    "        <td></td>\n",
    "    </tr>\n",
    "    <tr>\n",
    "        <td>Embraked</td>\n",
    "        <td>Town of embarkation</td>\n",
    "        <td>C=Cherbourg, Q=Queenstown, S=Southampton</td>\n",
    "    </tr>\n",
    "</table>"
   ]
  },
  {
   "cell_type": "code",
   "execution_count": 2,
   "id": "80e5e5aa-cf1c-4513-8b0d-4b280d683739",
   "metadata": {},
   "outputs": [],
   "source": [
    "# code here"
   ]
  },
  {
   "cell_type": "markdown",
   "id": "706b35ba-8259-4b00-9337-6a7f51b7bce7",
   "metadata": {
    "jp-MarkdownHeadingCollapsed": true
   },
   "source": [
    "## `Descriptive Statistics`\n",
    "\n",
    "Summary statistic that quantitatively describes or summarizes features from a collection of information, while descriptive statistics is the process of using and analysing those statistics."
   ]
  },
  {
   "cell_type": "markdown",
   "id": "248b1f02-0da7-4603-9cc5-2c617e00050f",
   "metadata": {},
   "source": [
    "### `Display the Dataset's Description`\n",
    "*Display the measures of central tendency of the dataset (e.g. mean, median, mode).*"
   ]
  },
  {
   "cell_type": "code",
   "execution_count": 15,
   "id": "622a2784-b9d2-4ea8-af0f-bf03dd077393",
   "metadata": {},
   "outputs": [],
   "source": [
    "# code here"
   ]
  },
  {
   "cell_type": "code",
   "execution_count": 16,
   "id": "e03395c3-8aaa-4bbb-9cff-bd24926d4161",
   "metadata": {},
   "outputs": [],
   "source": [
    "# utility function to plot a histogram from a pd.Series() object.\n",
    "\n",
    "def make_hist(series, bins=20):\n",
    "    plt.hist(series, bins=bins, ec='blue')\n",
    "    plt.title(f\"{series.name.capitalize()} Distribution\")\n",
    "    plt.xlabel(series.name.capitalize())\n",
    "    plt.show()"
   ]
  },
  {
   "cell_type": "markdown",
   "id": "10884ecc-c88b-49aa-aced-a449e7ef4d0e",
   "metadata": {},
   "source": [
    "### `Visualize the Age Distribution`\n",
    "*Display correct title and axis labels.*"
   ]
  },
  {
   "cell_type": "code",
   "execution_count": 17,
   "id": "e4778a65-8d98-4df8-b60d-58c5b6750629",
   "metadata": {},
   "outputs": [],
   "source": [
    "# code here"
   ]
  },
  {
   "cell_type": "markdown",
   "id": "1d5699cf-511e-4fc5-812c-5f3c384a4af8",
   "metadata": {},
   "source": [
    "### `Iteratively Display the Histogram for Each Numerical Column`"
   ]
  },
  {
   "cell_type": "code",
   "execution_count": 18,
   "id": "ab39a6a4-7243-4754-a7e9-eacc8854a9f4",
   "metadata": {},
   "outputs": [],
   "source": [
    "# code here"
   ]
  },
  {
   "cell_type": "markdown",
   "id": "a958efdd-037e-460f-82b0-0e9aa41bc77a",
   "metadata": {},
   "source": [
    "## The Data Mining Process\n",
    "<center><img src=\"figures/dm_process.png\" width=\"700\"></center>"
   ]
  },
  {
   "cell_type": "markdown",
   "id": "9722bcf9-8486-438e-b507-edb55ca6dd70",
   "metadata": {
    "jp-MarkdownHeadingCollapsed": true
   },
   "source": [
    "## `Perform Data Cleaning`\n",
    "Data cleaning involves a number of techniques including filling in the missing values manually, combined computer and human inspection, etc."
   ]
  },
  {
   "cell_type": "markdown",
   "id": "fd02d232-9302-493d-b2fe-683a26568c4b",
   "metadata": {},
   "source": [
    "### `Display the Number of Missing Values for each Column`"
   ]
  },
  {
   "cell_type": "code",
   "execution_count": 11,
   "id": "8e3ec480-1727-401e-8e61-fcb5ef9f54c2",
   "metadata": {},
   "outputs": [],
   "source": [
    "# code here"
   ]
  },
  {
   "cell_type": "markdown",
   "id": "22631548-ea1b-4543-b1b9-a839e333e783",
   "metadata": {},
   "source": [
    "<div class=\"alert alert-block alert-info\"><b>Note: </b> There are two types of treating missing values in a dataset: <br>\n",
    "1. Imputation - Filling missing values with a value e.g. mean, median, mode, zero or by using other techniques e.g. SMOTE or other ML algorithms.<br>\n",
    "2. Dropping - Removing the rows with at least one missing data.</div>\n",
    "\n",
    "**Sample Data:** \n",
    "|X |Y |\n",
    "|--|--|\n",
    "|14|27|\n",
    "|13|29|\n",
    "|23|49|\n",
    "|19|37|\n",
    "|21|31|\n",
    "|25|40|\n",
    "|18|35|\n",
    "|22|NaN|\n",
    "|18|NaN|\n",
    "|28|NaN|\n",
    "|25|NaN|\n",
    "|17|NaN|"
   ]
  },
  {
   "cell_type": "markdown",
   "id": "e997d809-fc34-493a-988c-563d8b204b22",
   "metadata": {},
   "source": [
    "### `Make a DataFrame out of the Sample Data`\n",
    "\n",
    "*Name it `sample_df1`* \\\n",
    "*Copy the `sample_df1` to a new variable called `sample_df2`*"
   ]
  },
  {
   "cell_type": "code",
   "execution_count": 12,
   "id": "36014c39-d829-49c4-adee-572307f6204a",
   "metadata": {},
   "outputs": [],
   "source": [
    "# code here"
   ]
  },
  {
   "cell_type": "markdown",
   "id": "e7895998-00d8-47a6-b64d-403ac6fb9410",
   "metadata": {},
   "source": [
    "**1. Imputation** \\\n",
    "Replaces `NaN` (Not a Number) values with the `mean` of the non-missing values in the column (other values aside form the mean can also be used).\n",
    "\\begin{equation}\n",
    "    NaN_{i,j} = \\frac{\\sum{x_j}}{n_j}\n",
    "\\end{equation}\n",
    "\n",
    "Where:\n",
    "- $NaN_{i,j}$ is the cell with the missing value in the $i$-th row and $j$-th column.\n",
    "- $x_j$ are the cells with non-missing values in the $j$-th column.\n",
    "- $n_j$ is the number of $x_j$ instances in the $j$-th column."
   ]
  },
  {
   "cell_type": "markdown",
   "id": "671d1cd7-ebc9-4c97-92ee-282b0819270d",
   "metadata": {},
   "source": [
    "<div class=\"alert alert-block alert-warning\">⚠️ Make sure that you named the sample data above as <code>sample_df1</code></div>\n"
   ]
  },
  {
   "cell_type": "code",
   "execution_count": null,
   "id": "34ba91b2-7fb1-468d-b400-74052bb0a5fa",
   "metadata": {},
   "outputs": [],
   "source": [
    "# (𖦹ᯅ𖦹)\n",
    "# what happens here?\n",
    "\n",
    "sums_j = 0\n",
    "n_j = 0\n",
    "\n",
    "for idx, row in sample_df1.iterrows():\n",
    "    X = row['X']\n",
    "    Y = row['Y']\n",
    "    if np.isnan(Y) == False:\n",
    "        sums_j += Y\n",
    "        n_j += 1\n",
    "\n",
    "avg = sums_j / n_j\n",
    "print(f\"Mean: {avg}\")"
   ]
  },
  {
   "cell_type": "code",
   "execution_count": null,
   "id": "438875bd-feb3-4b1b-95c3-03742f696e92",
   "metadata": {},
   "outputs": [],
   "source": [
    "# ≖‿≖\n",
    "# what happens here?\n",
    "\n",
    "for idx, row in sample_df1.iterrows():\n",
    "    X = row['X']\n",
    "    Y = row['Y']\n",
    "    if np.isnan(Y) == True:\n",
    "        sample_df1.loc[idx, 'Y'] = avg\n",
    "\n",
    "sample_df1"
   ]
  },
  {
   "cell_type": "markdown",
   "id": "0a560e6a-385b-46a3-832e-78895b7444b0",
   "metadata": {},
   "source": [
    "<div class=\"alert alert-block alert-info\"><b>Remember:</b> You can also use other methods such as median imputation, mode imputation and other methods, but of course there needs to be a factor that one should consider upon imputation.</div> \n",
    "\n",
    "Our implementation above for imputing missing values is actually impractical and unnecessary because there are built-in attributes in the `pd.DataFrame` that can do the mean  imputation automatically. The code above is judt for you to visualize and appreiate how imputation works."
   ]
  },
  {
   "cell_type": "markdown",
   "id": "36d1eab4-e5b0-4504-8f4d-8c226c954b9b",
   "metadata": {},
   "source": [
    "### `Impute the sample_df1`\n",
    "\n",
    "*Use the `pd.DataFrame` built-in method called `fillna()`, and use the `avg` as the parameter.*"
   ]
  },
  {
   "cell_type": "code",
   "execution_count": 13,
   "id": "58a4bbf1-e98e-4381-bd1c-8cecbdff22c6",
   "metadata": {},
   "outputs": [],
   "source": [
    "# code here"
   ]
  },
  {
   "cell_type": "markdown",
   "id": "5ba894f2-d0b4-4f9a-a765-468d89962e06",
   "metadata": {},
   "source": [
    "### `Dropping rows with null values`\n",
    "*Use the `sample_df2` for this item, use the `pd.DataFrame` built-in method called `dropna()`*\n",
    "\n",
    "**2. Dropping** \\\n",
    "Removing the entire row of instance with at least one missing value."
   ]
  },
  {
   "cell_type": "code",
   "execution_count": 14,
   "id": "e04b2ffc-9657-49ce-9886-3c9a6e590299",
   "metadata": {},
   "outputs": [],
   "source": [
    "# code here"
   ]
  },
  {
   "cell_type": "markdown",
   "id": "5511a6ca-1a63-48a0-9168-b37c872a341c",
   "metadata": {},
   "source": [
    "<div class=\"alert alert-block alert-info\"><b>Remember:</b> Cleaning don't just involve treating missing values, data cleaning also involves removing of duplicate instaces, fixing variable data types, fixing faulty records and others.</div> "
   ]
  },
  {
   "cell_type": "markdown",
   "id": "ed2f4293-558d-4d33-93ee-0890c30c4075",
   "metadata": {
    "jp-MarkdownHeadingCollapsed": true
   },
   "source": [
    "## `Data Integration`\n",
    "\n",
    "This includes clubbing of similar data together and to negate the differences in the data. It involves accessing different databases and extracting information from various trusted sources and clubbing them together. This process will give meaning to the unstructured data by framing it in a way that can be understood."
   ]
  },
  {
   "cell_type": "markdown",
   "id": "6e12892f-45c9-4fc0-ac3b-b8c3b239baa1",
   "metadata": {},
   "source": [
    "### `Cite Examples of Data Integration for Titanic Dataset`"
   ]
  },
  {
   "cell_type": "markdown",
   "id": "ff794a57-0630-402c-84aa-53894c4f905a",
   "metadata": {},
   "source": [
    "Answer here: "
   ]
  },
  {
   "cell_type": "markdown",
   "id": "b043f0dd-8f7b-469f-8fb0-8f13870b257d",
   "metadata": {},
   "source": [
    "## `Perform Data Cleaning for the Titanic Dataset`"
   ]
  },
  {
   "cell_type": "code",
   "execution_count": null,
   "id": "e6a9df36-e884-46ac-b57f-6ef536c766fb",
   "metadata": {},
   "outputs": [],
   "source": [
    "# should we peform imputation or dropping?\n",
    "\n",
    "pd.DataFrame(df.isna().sum(), columns=['Missing Values'])"
   ]
  },
  {
   "cell_type": "markdown",
   "id": "035f06df-f4cf-487e-9f56-4aff3e435952",
   "metadata": {},
   "source": [
    "### `Display Age Distribution`\n",
    "*Use correct title and axis labels.*\n",
    "*Display as well the mean, median and the mode from the distribution plot using `plt.axvline()`*"
   ]
  },
  {
   "cell_type": "markdown",
   "id": "2008b8f4-5a40-4a87-ac05-96027542ae74",
   "metadata": {},
   "source": [
    "### `Should we Perform Scalar Imputation?`\n",
    "\n",
    "<img src=\"figures/uhh.gif\" width=\"350\">\n",
    "\n",
    "*Any assumptions?*"
   ]
  },
  {
   "cell_type": "markdown",
   "id": "486a2770-d6ba-4d53-b90a-b9a55d5ef294",
   "metadata": {},
   "source": [
    "### `Perform Bootstrap Sampling Method`\n",
    "\n",
    "<center><img src=\"figures/bootstrap.png\" width=\"600\"></center>\n",
    "\n",
    "*set the random seed to 42* \\\n",
    "*display the histogram for the resampled data.*"
   ]
  },
  {
   "cell_type": "code",
   "execution_count": null,
   "id": "8df6dc38-7b42-4137-80f8-3c26f3cb7c1d",
   "metadata": {},
   "outputs": [],
   "source": [
    "# familiar? what happens here\n",
    "\n",
    "idx = 0\n",
    "_ = 0\n",
    "for val in df['Age']:\n",
    "    if np.isnan(val):\n",
    "        df.loc[idx, 'Age'] = age_repl[_]\n",
    "        _ += 1\n",
    "    idx += 1"
   ]
  },
  {
   "cell_type": "markdown",
   "id": "3eb49c9e-f53d-4ae5-b0af-78c9cd34c98b",
   "metadata": {},
   "source": [
    "### `Treat Missing values for Cabin Variable`"
   ]
  },
  {
   "cell_type": "code",
   "execution_count": null,
   "id": "5b8cef7f-90be-4333-870e-ab2c38c6bbf2",
   "metadata": {},
   "outputs": [],
   "source": [
    "cabin_idx, cabin_vals = df['Cabin'].value_counts().index, df['Cabin'].value_counts().values\n",
    "plt.figure(figsize=(5,30))\n",
    "sns.barplot(y=cabin_idx, x=cabin_vals, orient='horizontal')\n",
    "plt.title('Cabin Frequency Distribution')\n",
    "plt.show()"
   ]
  },
  {
   "cell_type": "markdown",
   "id": "c37c8226-e8fb-4a58-b558-dff5969f5c94",
   "metadata": {},
   "source": [
    "### `Perform Bootstrap Sampling for Cabin`"
   ]
  },
  {
   "cell_type": "code",
   "execution_count": null,
   "id": "13c92679-98ce-4ac5-9fab-36b752c0d663",
   "metadata": {},
   "outputs": [],
   "source": [
    "np.random.seed(42)\n",
    "cabin_repl = np.random.choice(df['Cabin'].dropna(), size=df['Cabin'].isna().sum())\n",
    "\n",
    "idx = 0\n",
    "_ = 0\n",
    "for val in df['Cabin']:\n",
    "    if type(val) == float:\n",
    "        df.loc[idx, 'Cabin'] = cabin_repl[_]\n",
    "        _ += 1\n",
    "    idx += 1"
   ]
  },
  {
   "cell_type": "code",
   "execution_count": null,
   "id": "22ea2697-34c3-43ce-a4e8-ec34788b9ece",
   "metadata": {},
   "outputs": [],
   "source": [
    "pd.DataFrame(df.isna().sum(), columns=['Missing Values'])"
   ]
  },
  {
   "cell_type": "markdown",
   "id": "ecad2275-c0a0-44c0-8965-e6c3703f92a0",
   "metadata": {},
   "source": [
    "<center><img src=\"figures/now_what.jpg\" width=\"250\"></center>"
   ]
  },
  {
   "cell_type": "markdown",
   "id": "edbe4fcb-cc1d-4244-8f4b-09c78b0646d5",
   "metadata": {},
   "source": [
    "### `Save the DataFrame as CSV`\n",
    "\n",
    "*We'll going to use that for another activity.*"
   ]
  },
  {
   "cell_type": "code",
   "execution_count": null,
   "id": "b2cb125a-4fb3-4d2d-b605-d02629bece3d",
   "metadata": {},
   "outputs": [],
   "source": []
  }
 ],
 "metadata": {
  "kernelspec": {
   "display_name": "Python 3 (ipykernel)",
   "language": "python",
   "name": "python3"
  },
  "language_info": {
   "codemirror_mode": {
    "name": "ipython",
    "version": 3
   },
   "file_extension": ".py",
   "mimetype": "text/x-python",
   "name": "python",
   "nbconvert_exporter": "python",
   "pygments_lexer": "ipython3",
   "version": "3.9.4"
  }
 },
 "nbformat": 4,
 "nbformat_minor": 5
}
