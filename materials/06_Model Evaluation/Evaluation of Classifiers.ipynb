{
 "cells": [
  {
   "cell_type": "markdown",
   "id": "0852a3e9-a325-4008-954e-34e9aad5dc43",
   "metadata": {},
   "source": [
    "# Model Evaluation\n",
    "\n",
    "Instructor: Jhun Brian M. Andam </br>\n",
    "Course: Data Mining and Application\n",
    "\n",
    "<center><img src=\"figures/head.gif\" alt=\"Evaluation Metrics in Machine Learning 101\n",
    "\"/></center>\n",
    "\n",
    "> Model evaluation is the process of using different evaluation metrics to understand a machine learning model’s performance, as well as its strengths and weaknesses. Model evaluation is important to assess the efficacy of a model during initial research phases, and it also plays a role in model monitoring.\n",
    "> - https://domino.ai/data-science-dictionary/model-evaluation\r\n"
   ]
  },
  {
   "cell_type": "markdown",
   "id": "c6e07521-0ad3-41cf-bb3e-3ce9d34345b0",
   "metadata": {},
   "source": [
    "<div class=\"alert alert-block alert-info\"><b>🤔 Recall: </b>Before we dive into the process of evaluating a model, let's first recall what we have learned so far.</div>\n",
    "\n",
    "- What are the types of machine learning methods?\n",
    "- What models have we used for supervised learning?\n",
    "- Difference between classification and regression models?\n"
   ]
  },
  {
   "cell_type": "markdown",
   "id": "cb869c40-ac96-4630-a3e5-a6d1523b89a7",
   "metadata": {},
   "source": [
    "**For starter:** Imagine that a person claims that he has built a model with 99.83% accuracy. Should we just go ahead and productionize that model? He also claims that his model can classify whether a given transaction is fraudulent or not with \"state-of-the-art accuracy\". Does that mean we have the perfect classifier?\n",
    "<center><img src=\"figures/bob.gif\"></center>"
   ]
  },
  {
   "cell_type": "code",
   "execution_count": 1,
   "id": "9d9d86ac-3cc0-47b4-9ea3-c3b7096b9ced",
   "metadata": {},
   "outputs": [],
   "source": [
    "import numpy as np\n",
    "import matplotlib.pyplot as plt\n",
    "import seaborn as sns\n",
    "\n",
    "from sklearn.neighbors import KNeighborsClassifier\n",
    "from sklearn.neighbors import KNeighborsRegressor\n",
    "sns.set_theme(font='Times New Roman')"
   ]
  },
  {
   "cell_type": "markdown",
   "id": "88fa520f-21f6-47b2-9bea-a63e053fb778",
   "metadata": {},
   "source": [
    "<center><a href=\"https://towardsdatascience.com/train-test-split-and-cross-validation-in-python-80b61beca4b6\"><img src=\"figures/validation_types.png\" width=500></a></center>"
   ]
  },
  {
   "cell_type": "markdown",
   "id": "c32d5ef0-c8e7-4c6f-80f2-780ac831d88d",
   "metadata": {},
   "source": [
    "### **Holdout Validation**\n",
    "\n",
    "Holdout is the simplest approach. It is used in neural networks as well as in many classifiers.  In this technique, the dataset is divided into train and test datasets. The dataset is usually divided into ratios like 70:30 or 80:20. Normally a large percentage of data is used for training the model and a small portion of the dataset is used for testing the model."
   ]
  },
  {
   "cell_type": "code",
   "execution_count": 2,
   "id": "31004d3e-401b-4e71-b243-ba56db1620e9",
   "metadata": {},
   "outputs": [
    {
     "data": {
      "text/html": [
       "<div>\n",
       "<style scoped>\n",
       "    .dataframe tbody tr th:only-of-type {\n",
       "        vertical-align: middle;\n",
       "    }\n",
       "\n",
       "    .dataframe tbody tr th {\n",
       "        vertical-align: top;\n",
       "    }\n",
       "\n",
       "    .dataframe thead th {\n",
       "        text-align: right;\n",
       "    }\n",
       "</style>\n",
       "<table border=\"1\" class=\"dataframe\">\n",
       "  <thead>\n",
       "    <tr style=\"text-align: right;\">\n",
       "      <th></th>\n",
       "      <th>sepal_length</th>\n",
       "      <th>sepal_width</th>\n",
       "      <th>petal_length</th>\n",
       "      <th>petal_width</th>\n",
       "      <th>species</th>\n",
       "    </tr>\n",
       "  </thead>\n",
       "  <tbody>\n",
       "    <tr>\n",
       "      <th>0</th>\n",
       "      <td>5.1</td>\n",
       "      <td>3.5</td>\n",
       "      <td>1.4</td>\n",
       "      <td>0.2</td>\n",
       "      <td>setosa</td>\n",
       "    </tr>\n",
       "    <tr>\n",
       "      <th>1</th>\n",
       "      <td>4.9</td>\n",
       "      <td>3.0</td>\n",
       "      <td>1.4</td>\n",
       "      <td>0.2</td>\n",
       "      <td>setosa</td>\n",
       "    </tr>\n",
       "    <tr>\n",
       "      <th>2</th>\n",
       "      <td>4.7</td>\n",
       "      <td>3.2</td>\n",
       "      <td>1.3</td>\n",
       "      <td>0.2</td>\n",
       "      <td>setosa</td>\n",
       "    </tr>\n",
       "    <tr>\n",
       "      <th>3</th>\n",
       "      <td>4.6</td>\n",
       "      <td>3.1</td>\n",
       "      <td>1.5</td>\n",
       "      <td>0.2</td>\n",
       "      <td>setosa</td>\n",
       "    </tr>\n",
       "    <tr>\n",
       "      <th>4</th>\n",
       "      <td>5.0</td>\n",
       "      <td>3.6</td>\n",
       "      <td>1.4</td>\n",
       "      <td>0.2</td>\n",
       "      <td>setosa</td>\n",
       "    </tr>\n",
       "  </tbody>\n",
       "</table>\n",
       "</div>"
      ],
      "text/plain": [
       "   sepal_length  sepal_width  petal_length  petal_width species\n",
       "0           5.1          3.5           1.4          0.2  setosa\n",
       "1           4.9          3.0           1.4          0.2  setosa\n",
       "2           4.7          3.2           1.3          0.2  setosa\n",
       "3           4.6          3.1           1.5          0.2  setosa\n",
       "4           5.0          3.6           1.4          0.2  setosa"
      ]
     },
     "execution_count": 2,
     "metadata": {},
     "output_type": "execute_result"
    }
   ],
   "source": [
    "df = sns.load_dataset('iris')\n",
    "df.head()"
   ]
  },
  {
   "cell_type": "code",
   "execution_count": 3,
   "id": "59040717-eb99-47b3-b37d-eca67c433716",
   "metadata": {},
   "outputs": [
    {
     "data": {
      "image/png": "[encoded data removed]",
      "text/plain": [
       "<Figure size 500x500 with 1 Axes>"
      ]
     },
     "metadata": {},
     "output_type": "display_data"
    }
   ],
   "source": [
    "plt.figure(figsize=(5, 5))\n",
    "sns.scatterplot(df, x='sepal_length', y='petal_length', hue='species');"
   ]
  },
  {
   "cell_type": "markdown",
   "id": "ae6b2b6d-c610-4845-ab64-63e47d49533b",
   "metadata": {},
   "source": [
    "The dataset `df` has a shape of `(150, 5)`, we can apply a `Holdout` method for us to validate the model."
   ]
  },
  {
   "cell_type": "code",
   "execution_count": 3,
   "id": "bf9ee2d6-95ee-4858-b5cb-a155c1b3f117",
   "metadata": {},
   "outputs": [
    {
     "data": {
      "text/plain": [
       "(150, 5)"
      ]
     },
     "execution_count": 3,
     "metadata": {},
     "output_type": "execute_result"
    }
   ],
   "source": [
    "df.shape"
   ]
  },
  {
   "cell_type": "code",
   "execution_count": 13,
   "id": "f730a67d-722a-49a5-b1f1-3d19cc7ca02b",
   "metadata": {},
   "outputs": [],
   "source": [
    "np.random.seed(42)\n",
    "\n",
    "# shuffle the dataset\n",
    "data = df.sample(150)\n",
    "\n",
    "# make a class map using dictionary comprehension\n",
    "class_map = {val:key for key, val in enumerate(data['species'].unique())}"
   ]
  },
  {
   "cell_type": "code",
   "execution_count": 14,
   "id": "7770306d-1267-41af-a97f-41d46b68e15d",
   "metadata": {},
   "outputs": [],
   "source": [
    "# replace the categorical values into a numerical ones by\n",
    "# applying the class_map\n",
    "data['species'] = data['species'].map(class_map)"
   ]
  },
  {
   "cell_type": "code",
   "execution_count": 20,
   "id": "45d8ae91-6cc3-41f5-a247-b4bd46a2f56e",
   "metadata": {},
   "outputs": [],
   "source": [
    "train_size = 0.75\n",
    "\n",
    "# syntax: dataframe.iloc[all rows (:) until (len(holdout) * train_size) and all columns]\n",
    "train_data = data.iloc[:int(len(data) * train_size), :]\n",
    "\n",
    "# syntax: dataframe.iloc[last row element until (len(holdout) - len(train_data)) and all columns]\n",
    "test_data = data.iloc[-(len(data) - len(train_data)):, :]"
   ]
  },
  {
   "cell_type": "code",
   "execution_count": 22,
   "id": "39ccf037-4042-447d-9ea7-c06d4281afe8",
   "metadata": {},
   "outputs": [],
   "source": [
    "X_train, y_train = train_data.iloc[:, :-1], train_data['species']\n",
    "X_test, y_test = test_data.iloc[:, :-1], test_data['species']"
   ]
  },
  {
   "cell_type": "code",
   "execution_count": 25,
   "id": "d617bfdd-5880-4d29-aac3-0848c5970d0d",
   "metadata": {},
   "outputs": [
    {
     "data": {
      "text/html": [
       "<style>#sk-container-id-3 {color: black;}#sk-container-id-3 pre{padding: 0;}#sk-container-id-3 div.sk-toggleable {background-color: white;}#sk-container-id-3 label.sk-toggleable__label {cursor: pointer;display: block;width: 100%;margin-bottom: 0;padding: 0.3em;box-sizing: border-box;text-align: center;}#sk-container-id-3 label.sk-toggleable__label-arrow:before {content: \"▸\";float: left;margin-right: 0.25em;color: #696969;}#sk-container-id-3 label.sk-toggleable__label-arrow:hover:before {color: black;}#sk-container-id-3 div.sk-estimator:hover label.sk-toggleable__label-arrow:before {color: black;}#sk-container-id-3 div.sk-toggleable__content {max-height: 0;max-width: 0;overflow: hidden;text-align: left;background-color: #f0f8ff;}#sk-container-id-3 div.sk-toggleable__content pre {margin: 0.2em;color: black;border-radius: 0.25em;background-color: #f0f8ff;}#sk-container-id-3 input.sk-toggleable__control:checked~div.sk-toggleable__content {max-height: 200px;max-width: 100%;overflow: auto;}#sk-container-id-3 input.sk-toggleable__control:checked~label.sk-toggleable__label-arrow:before {content: \"▾\";}#sk-container-id-3 div.sk-estimator input.sk-toggleable__control:checked~label.sk-toggleable__label {background-color: #d4ebff;}#sk-container-id-3 div.sk-label input.sk-toggleable__control:checked~label.sk-toggleable__label {background-color: #d4ebff;}#sk-container-id-3 input.sk-hidden--visually {border: 0;clip: rect(1px 1px 1px 1px);clip: rect(1px, 1px, 1px, 1px);height: 1px;margin: -1px;overflow: hidden;padding: 0;position: absolute;width: 1px;}#sk-container-id-3 div.sk-estimator {font-family: monospace;background-color: #f0f8ff;border: 1px dotted black;border-radius: 0.25em;box-sizing: border-box;margin-bottom: 0.5em;}#sk-container-id-3 div.sk-estimator:hover {background-color: #d4ebff;}#sk-container-id-3 div.sk-parallel-item::after {content: \"\";width: 100%;border-bottom: 1px solid gray;flex-grow: 1;}#sk-container-id-3 div.sk-label:hover label.sk-toggleable__label {background-color: #d4ebff;}#sk-container-id-3 div.sk-serial::before {content: \"\";position: absolute;border-left: 1px solid gray;box-sizing: border-box;top: 0;bottom: 0;left: 50%;z-index: 0;}#sk-container-id-3 div.sk-serial {display: flex;flex-direction: column;align-items: center;background-color: white;padding-right: 0.2em;padding-left: 0.2em;position: relative;}#sk-container-id-3 div.sk-item {position: relative;z-index: 1;}#sk-container-id-3 div.sk-parallel {display: flex;align-items: stretch;justify-content: center;background-color: white;position: relative;}#sk-container-id-3 div.sk-item::before, #sk-container-id-3 div.sk-parallel-item::before {content: \"\";position: absolute;border-left: 1px solid gray;box-sizing: border-box;top: 0;bottom: 0;left: 50%;z-index: -1;}#sk-container-id-3 div.sk-parallel-item {display: flex;flex-direction: column;z-index: 1;position: relative;background-color: white;}#sk-container-id-3 div.sk-parallel-item:first-child::after {align-self: flex-end;width: 50%;}#sk-container-id-3 div.sk-parallel-item:last-child::after {align-self: flex-start;width: 50%;}#sk-container-id-3 div.sk-parallel-item:only-child::after {width: 0;}#sk-container-id-3 div.sk-dashed-wrapped {border: 1px dashed gray;margin: 0 0.4em 0.5em 0.4em;box-sizing: border-box;padding-bottom: 0.4em;background-color: white;}#sk-container-id-3 div.sk-label label {font-family: monospace;font-weight: bold;display: inline-block;line-height: 1.2em;}#sk-container-id-3 div.sk-label-container {text-align: center;}#sk-container-id-3 div.sk-container {/* jupyter's `normalize.less` sets `[hidden] { display: none; }` but bootstrap.min.css set `[hidden] { display: none !important; }` so we also need the `!important` here to be able to override the default hidden behavior on the sphinx rendered scikit-learn.org. See: https://github.com/scikit-learn/scikit-learn/issues/21755 */display: inline-block !important;position: relative;}#sk-container-id-3 div.sk-text-repr-fallback {display: none;}</style><div id=\"sk-container-id-3\" class=\"sk-top-container\"><div class=\"sk-text-repr-fallback\"><pre>KNeighborsClassifier(n_neighbors=1)</pre><b>In a Jupyter environment, please rerun this cell to show the HTML representation or trust the notebook. <br />On GitHub, the HTML representation is unable to render, please try loading this page with nbviewer.org.</b></div><div class=\"sk-container\" hidden><div class=\"sk-item\"><div class=\"sk-estimator sk-toggleable\"><input class=\"sk-toggleable__control sk-hidden--visually\" id=\"sk-estimator-id-3\" type=\"checkbox\" checked><label for=\"sk-estimator-id-3\" class=\"sk-toggleable__label sk-toggleable__label-arrow\">KNeighborsClassifier</label><div class=\"sk-toggleable__content\"><pre>KNeighborsClassifier(n_neighbors=1)</pre></div></div></div></div></div>"
      ],
      "text/plain": [
       "KNeighborsClassifier(n_neighbors=1)"
      ]
     },
     "execution_count": 25,
     "metadata": {},
     "output_type": "execute_result"
    }
   ],
   "source": [
    "clf = KNeighborsClassifier(n_neighbors=1)\n",
    "clf.fit(X_train, y_train)"
   ]
  },
  {
   "cell_type": "markdown",
   "id": "36aca722-47df-4db1-af3a-63eb27cbca99",
   "metadata": {},
   "source": [
    "### **Cross Validation**\n",
    "\n",
    "Cross Validation is a method in which we do not use the whole dataset for training. In this technique, some part of the dataset is reserved for testing the model. There are many types of Cross-Validation out of which `K-Fold Cross Validation` is mostly used. In `K-Fold Cross Validation` the original dataset is divided into k subsets. The subsets are known as folds. This is repeated k times where 1 fold is used for testing purposes. Rest k-1 folds are used for training the model. So each data point acts as a test subject for the model as well as acts as the training subject. It is seen that this technique generalizes the model well and reduces the error rate.\r\n",
    "\r\n"
   ]
  },
  {
   "cell_type": "code",
   "execution_count": 27,
   "id": "ef52cb2c-50b8-467a-a4b4-e74e461f3944",
   "metadata": {},
   "outputs": [],
   "source": [
    "def kfold_indices(data, k):\n",
    "    fold_size = len(data) // k\n",
    "    indices = np.arange(len(data))\n",
    "    folds = []\n",
    "    for i in range(k):\n",
    "        test_indices = indices[i * fold_size: (i + 1) * fold_size]\n",
    "        train_indices = np.concatenate([indices[:i * fold_size], indices[(i + 1) * fold_size:]])\n",
    "        folds.append((train_indices, test_indices))\n",
    "    return folds"
   ]
  },
  {
   "cell_type": "code",
   "execution_count": 31,
   "id": "c5c54e17-1664-4314-8043-554ceb89e078",
   "metadata": {},
   "outputs": [],
   "source": [
    "indices = kfold_indices(data, 7)"
   ]
  },
  {
   "cell_type": "code",
   "execution_count": 32,
   "id": "35f4a9be-1ae3-4653-bb82-adeede6a9fdf",
   "metadata": {
    "scrolled": true
   },
   "outputs": [
    {
     "name": "stdout",
     "output_type": "stream",
     "text": [
      "FOLD 1:\n",
      "n_neighbor:   1   accuracy:  1.0 \n",
      "n_neighbor:   2   accuracy:  1.0 \n",
      "n_neighbor:   3   accuracy:  1.0 \n",
      "n_neighbor:   4   accuracy:  1.0 \n",
      "n_neighbor:   5   accuracy:  1.0 \n",
      "n_neighbor:   6   accuracy:  1.0 \n",
      "n_neighbor:   7   accuracy: 0.952\n",
      "n_neighbor:   8   accuracy:  1.0 \n",
      "n_neighbor:   9   accuracy:  1.0 \n",
      "n_neighbor:  10   accuracy:  1.0 \n",
      "FOLD 2:\n",
      "n_neighbor:   1   accuracy:  1.0 \n",
      "n_neighbor:   2   accuracy:  1.0 \n",
      "n_neighbor:   3   accuracy:  1.0 \n",
      "n_neighbor:   4   accuracy:  1.0 \n",
      "n_neighbor:   5   accuracy:  1.0 \n",
      "n_neighbor:   6   accuracy:  1.0 \n",
      "n_neighbor:   7   accuracy:  1.0 \n",
      "n_neighbor:   8   accuracy:  1.0 \n",
      "n_neighbor:   9   accuracy:  1.0 \n",
      "n_neighbor:  10   accuracy:  1.0 \n",
      "FOLD 3:\n",
      "n_neighbor:   1   accuracy: 0.952\n",
      "n_neighbor:   2   accuracy: 0.952\n",
      "n_neighbor:   3   accuracy: 0.952\n",
      "n_neighbor:   4   accuracy: 0.952\n",
      "n_neighbor:   5   accuracy: 0.952\n",
      "n_neighbor:   6   accuracy: 0.952\n",
      "n_neighbor:   7   accuracy: 0.952\n",
      "n_neighbor:   8   accuracy: 0.952\n",
      "n_neighbor:   9   accuracy: 0.952\n",
      "n_neighbor:  10   accuracy: 0.952\n",
      "FOLD 4:\n",
      "n_neighbor:   1   accuracy:  1.0 \n",
      "n_neighbor:   2   accuracy: 0.952\n",
      "n_neighbor:   3   accuracy:  1.0 \n",
      "n_neighbor:   4   accuracy:  1.0 \n",
      "n_neighbor:   5   accuracy:  1.0 \n",
      "n_neighbor:   6   accuracy:  1.0 \n",
      "n_neighbor:   7   accuracy:  1.0 \n",
      "n_neighbor:   8   accuracy: 0.952\n",
      "n_neighbor:   9   accuracy: 0.952\n",
      "n_neighbor:  10   accuracy: 0.952\n",
      "FOLD 5:\n",
      "n_neighbor:   1   accuracy: 0.81 \n",
      "n_neighbor:   2   accuracy: 0.81 \n",
      "n_neighbor:   3   accuracy: 0.857\n",
      "n_neighbor:   4   accuracy: 0.857\n",
      "n_neighbor:   5   accuracy: 0.857\n",
      "n_neighbor:   6   accuracy: 0.857\n",
      "n_neighbor:   7   accuracy: 0.81 \n",
      "n_neighbor:   8   accuracy: 0.952\n",
      "n_neighbor:   9   accuracy: 0.905\n",
      "n_neighbor:  10   accuracy: 0.905\n",
      "FOLD 6:\n",
      "n_neighbor:   1   accuracy:  1.0 \n",
      "n_neighbor:   2   accuracy:  1.0 \n",
      "n_neighbor:   3   accuracy:  1.0 \n",
      "n_neighbor:   4   accuracy:  1.0 \n",
      "n_neighbor:   5   accuracy:  1.0 \n",
      "n_neighbor:   6   accuracy:  1.0 \n",
      "n_neighbor:   7   accuracy:  1.0 \n",
      "n_neighbor:   8   accuracy:  1.0 \n",
      "n_neighbor:   9   accuracy:  1.0 \n",
      "n_neighbor:  10   accuracy:  1.0 \n",
      "FOLD 7:\n",
      "n_neighbor:   1   accuracy: 0.952\n",
      "n_neighbor:   2   accuracy: 0.952\n",
      "n_neighbor:   3   accuracy: 0.952\n",
      "n_neighbor:   4   accuracy: 0.952\n",
      "n_neighbor:   5   accuracy: 0.952\n",
      "n_neighbor:   6   accuracy: 0.952\n",
      "n_neighbor:   7   accuracy: 0.952\n",
      "n_neighbor:   8   accuracy: 0.952\n",
      "n_neighbor:   9   accuracy: 0.952\n",
      "n_neighbor:  10   accuracy: 0.952\n"
     ]
    }
   ],
   "source": [
    "data = data.reset_index(drop=True)\n",
    "n_neighbors = range(1, 10+1)\n",
    "\n",
    "for fold, idx in enumerate(indices):\n",
    "    fold += 1\n",
    "    train_idx, test_idx = idx\n",
    "    train_df, test_df = data.loc[train_idx], data.loc[test_idx]\n",
    "    X_train, y_train = train_df.iloc[:, :-1], train_df.iloc[:, -1]\n",
    "    X_test, y_test = test_df.iloc[:, :-1], test_df.iloc[:, -1]\n",
    "    print(f\"FOLD {fold}:\")\n",
    "    for n in n_neighbors:\n",
    "        clf_kfold = KNeighborsClassifier(n_neighbors=n)\n",
    "        clf_kfold.fit(X_train, y_train)\n",
    "        print(\"n_neighbor: {:^5} accuracy: {:^5}\".format(n, round(clf_kfold.score(X_test, y_test), 3)))"
   ]
  },
  {
   "cell_type": "markdown",
   "id": "9907f675-062f-47d3-a32b-b872650681d7",
   "metadata": {},
   "source": [
    "### **Evaluation of Classifiers** \n",
    "\n",
    "*Labeled Dataset | Categorical | Discrete*\n",
    "\n",
    "> There are many ways for measuring classification performance. Accuracy, confusion matrix, log-loss, and AUC-ROC are some of the most popular metrics. Precision-recall is a widely used metrics for classification problems. </br>\n",
    "> https://www.analyticsvidhya.com/blog/2021/07/metrics-to-evaluate-your-classification-model-to-take-the-right-decisions/"
   ]
  },
  {
   "cell_type": "markdown",
   "id": "224cd5b7-67f5-4b8c-93d6-0cab474b5640",
   "metadata": {},
   "source": [
    "- **Accuracy**\n",
    "\n",
    "\\begin{equation}\n",
    "    \\text{Accuracy} = \\frac{TP + TN}{TP + TN + FP + FN}\n",
    "\\end{equation}\n",
    "\n",
    "- Out of 1000 samples for the test dataset for email fraud detection `(spam is positive, not spam is negative)`, `450` were correctly detected as `spam emails` and `475` were correctly predicted as `not spam emails`.\n",
    "\n",
    "\\begin{equation}\n",
    "    \\text{Test Accuracy} = \\frac{450 + 475}{1000}\n",
    "\\end{equation}\n",
    "\\begin{equation}\n",
    "    \\text{Test Accuracy} = 0.925 \\ \\text{or 92.5\\%}\n",
    "\\end{equation}\n",
    "\n",
    "The well known `classification accuracy` score is actually derived from confusion matrix. Confusion matrix, also known as error matrix, is a specific table layout that allows visualization of the performance of an algorithm, typically a supervised learning one.\n",
    "\n",
    "<table>\n",
    "    <thead>\n",
    "        <tr>\n",
    "            <th colspan=\"3\">Monthly Savings</th>\n",
    "        </tr>\n",
    "        <tr>\n",
    "            <td></td>\n",
    "            <td>Positive</td>\n",
    "            <td>Negative</td>\n",
    "        </tr>\n",
    "    </thead>\n",
    "    <tr>\n",
    "        <td>Positive</td>\n",
    "        <td>450</td>\n",
    "        <td>50</td>\n",
    "    </tr>\n",
    "    <tr>\n",
    "        <td>Negative</td>\n",
    "        <td>25</td>\n",
    "        <td>475</td>\n",
    "    </tr>\n",
    "</table>\n",
    "\n",
    "Or typically written with the positive and negative notations.\n",
    "\n",
    "<table>\n",
    "    <thead>\n",
    "        <tr>\n",
    "            <td></td>\n",
    "            <td>Positive</td>\n",
    "            <td>Negative</td>\n",
    "        </tr>\n",
    "    </thead>\n",
    "    <tr>\n",
    "        <td>Positive</td>\n",
    "        <td>TP</td>\n",
    "        <td>FP (Type I Error)</td>\n",
    "    </tr>\n",
    "    <tr>\n",
    "        <td>Negative</td>\n",
    "        <td>FN (Type II Error)</td>\n",
    "        <td>TN</td>\n",
    "    </tr>\n",
    "</table>\n",
    "\n",
    "- True Positive: Corectly predicted positive class (spam)\n",
    "- False Positive: Incorrectly predicted positive class (spam predicted as not spam)\n",
    "- True Negative: Cortrectly predicted negative class (not spam)\n",
    "- False Negative: Incorrectly predicted negative class (not spam predicted as spam)\n",
    "\n",
    "Accuracy is the ratio of correctly predicted instances to the total instances and is expressed as a percentage."
   ]
  },
  {
   "cell_type": "markdown",
   "id": "632b8865-e407-4d6e-bdeb-937389bd04c5",
   "metadata": {},
   "source": [
    "**Other Classification Metrics Derived from Confusion Matrix**\n",
    "\n",
    "\\begin{equation}\n",
    "    \\text{Sensitivity (TPR)} = \\frac{TP}{TP + FN}\n",
    "\\end{equation}\n",
    "\n",
    "- **Sensitivity or Recall** (True Positive Rate) is the probability of a positive test result, conditioned on the individual truly being positive.\n",
    "\n",
    "\\begin{equation}\n",
    "    \\text{Specificity (TNR)} = \\frac{TN}{TN + FP}\n",
    "\\end{equation}\n",
    "\n",
    "- **Specificity** (True Negative Rate) is the probability of a negative test result, conditioned on the individual truly being negative.\n",
    "\n",
    "\\begin{equation}\n",
    "    \\text{Precision (PPV)} = \\frac{TP}{TP + FP}\n",
    "\\end{equation}\n",
    "\n",
    "- **Precision** (Positive Predictive Value) is particularly relevant when you want to evaluate how well a model performs in terms of correctly predicting positive instances.\n",
    "\n",
    "\\begin{equation}\n",
    "    \\text{Negative Predictive Value} = \\frac{TN}{TN + FN}\n",
    "\\end{equation}\n",
    "\n",
    "- **Negative Predictive Value (NPV)** is a performance metric that assesses the accuracy of the model's predictions for the negative class.\n",
    "\n",
    "\\begin{equation}\n",
    "    \\text{F1} = 2 \\times \\frac{\\text{Precision} \\times \\text{Recall}}{\\text{Precision} + \\text{Recall}}\n",
    "\\end{equation}\n",
    "\n",
    "- **F1 score** is the harmonic mean of the precision and recall. It thus symmetrically represents both precision and recall in one metric."
   ]
  },
  {
   "cell_type": "markdown",
   "id": "fa789864-b8d8-41e3-9094-efdcee1bd35c",
   "metadata": {},
   "source": [
    "### Summary\n",
    "\n",
    "<table>\n",
    "  <tr>\n",
    "    <th>Metric</th>\n",
    "    <th>Indication</th>\n",
    "    <th>When to Use</th>\n",
    "  </tr>\n",
    "  <tr>\n",
    "    <td>Accuracy</td>\n",
    "    <td>Overall correctness of predictions</td>\n",
    "    <td>Balanced classes; when misclassification costs are equal for both classes</td>\n",
    "  </tr>\n",
    "  <tr>\n",
    "    <td>Sensitivity (Recall)</td>\n",
    "    <td>Ability to correctly identify positive instances</td>\n",
    "    <td>Emphasis on minimizing false negatives; detecting all positive instances</td>\n",
    "  </tr>\n",
    "  <tr>\n",
    "    <td>Specificity</td>\n",
    "    <td>Ability to correctly identify negative instances</td>\n",
    "    <td>Emphasis on minimizing false positives; detecting all negative instances</td>\n",
    "  </tr>\n",
    "  <tr>\n",
    "    <td>Precision</td>\n",
    "    <td>Accuracy of positive predictions</td>\n",
    "    <td>Emphasis on minimizing false positives; cost of false positives is high</td>\n",
    "  </tr>\n",
    "  <tr>\n",
    "    <td>Negative Predictive Value</td>\n",
    "    <td>Accuracy of negative predictions</td>\n",
    "    <td>Emphasis on minimizing false negatives; cost of false negatives is high</td>\n",
    "  </tr>\n",
    "  <tr>\n",
    "    <td>F1 Score</td>\n",
    "    <td>Harmonic mean of precision and recall</td>\n",
    "    <td>When there's an imbalance between precision and recall; considers both false positives and negatives</td>\n",
    "  </tr>\n",
    "</table>\n"
   ]
  },
  {
   "cell_type": "markdown",
   "id": "493c90b9-ad21-495c-93dc-2dbe38e7e8e9",
   "metadata": {},
   "source": [
    "### Laboratory Activity 2.2:\n",
    "\n",
    "1. Access the following dataset from kaggle and train a machine learning model to predict if a user account is legitimate or fake through facebook online engagements or activities.\n",
    "    - https://www.kaggle.com/code/jhunbrianandam/classifying-facebook-accounts/input\n",
    "    - Use KNNClassifier for this activity.\n",
    "2. Evaluate the model's performance using a single holdout set (70:30).\n",
    "3. Evaluate the model's performance using k-fold cross validation (7 folds).\n",
    "4. You must use all the provided metrics for classification."
   ]
  },
  {
   "cell_type": "markdown",
   "id": "346c2000-9bc4-4a3d-a740-8456387cb31a",
   "metadata": {},
   "source": [
    "### Lecture Activity 2.2:\n",
    "\n",
    "1. Research the ROC-AUC metrics for classification, understand what this metric indicates, and identify when it is more appropriate as a performance indicator.\n",
    "2. Try implementing the ROC-AUC metric on the Facebook accounts dataset.\r\n",
    "\r\n",
    "\r\n"
   ]
  },
  {
   "cell_type": "code",
   "execution_count": null,
   "id": "a253138a-6a23-4e33-a111-9d1142589fda",
   "metadata": {},
   "outputs": [],
   "source": []
  }
 ],
 "metadata": {
  "kernelspec": {
   "display_name": "Python 3 (ipykernel)",
   "language": "python",
   "name": "python3"
  },
  "language_info": {
   "codemirror_mode": {
    "name": "ipython",
    "version": 3
   },
   "file_extension": ".py",
   "mimetype": "text/x-python",
   "name": "python",
   "nbconvert_exporter": "python",
   "pygments_lexer": "ipython3",
   "version": "3.8.5"
  }
 },
 "nbformat": 4,
 "nbformat_minor": 5
}
