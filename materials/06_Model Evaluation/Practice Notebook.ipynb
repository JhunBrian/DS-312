{
 "cells": [
  {
   "cell_type": "markdown",
   "id": "cb87ba87-827a-407b-9999-da31a24f0a24",
   "metadata": {},
   "source": [
    "# **📜 Practice Notebook**\n",
    "\n",
    "**Name:** <br/>\n",
    "**Course:** Data Mining and Application <br/>\n",
    "**Program:** BS in Data Science"
   ]
  },
  {
   "cell_type": "markdown",
   "id": "e02d42f7-c574-473c-80f2-0daefb06b748",
   "metadata": {},
   "source": [
    "## **🔃 Import Necessary Libraries**"
   ]
  },
  {
   "cell_type": "code",
   "execution_count": null,
   "id": "52281ae2-d923-4cbe-a344-b0eefee62a66",
   "metadata": {},
   "outputs": [],
   "source": [
    "# import libraries here"
   ]
  },
  {
   "cell_type": "markdown",
   "id": "0cbe13e9-9285-4325-aa6b-b5e16ff2f318",
   "metadata": {},
   "source": [
    "## **📩 Load Dataset**\n",
    "\n",
    "**Context**\n",
    "\n",
    "Reduction of child mortality is reflected in several of the United Nations' Sustainable Development Goals and is a key indicator of human progress.\n",
    "The UN expects that by 2030, countries end preventable deaths of newborns and children under 5 years of age, with all countries aiming to reduce under‑5 mortality to at least as low as 25 per 1,000 live births.\n",
    "\n",
    "Parallel to notion of child mortality is of course maternal mortality, which accounts for 295 000 deaths during and following pregnancy and childbirth (as of 2017). The vast majority of these deaths (94%) occurred in low-resource settings, and most could have been prevented.\n",
    "\n",
    "In light of what was mentioned above, Cardiotocograms (CTGs) are a simple and cost accessible option to assess fetal health, allowing healthcare professionals to take action in order to prevent child and maternal mortality. The equipment itself works by sending ultrasound pulses and reading its response, thus shedding light on fetal heart rate (FHR), fetal movements, uterine contractions and more.\n",
    "\n",
    "**Data**\n",
    "\n",
    "This dataset contains 2126 records of features extracted from Cardiotocogram exams, which were then classified by three expert obstetritians into 3 classes:\n",
    "\n",
    "- Normal\n",
    "- Suspect\n",
    "- Pathological\n",
    "\n",
    "**Citation**\n",
    "\n",
    "Ayres de Campos et al. (2000) SisPorto 2.0 A Program for Automated Analysis of Cardiotocograms. J Matern Fetal Med 5:311-318 (<a href=\"https://onlinelibrary.wiley.com/doi/10.1002/1520-6661(200009/10)9:5%3C311::AID-MFM12%3E3.0.CO;2-9\">link</a>)"
   ]
  },
  {
   "cell_type": "code",
   "execution_count": null,
   "id": "522f2a87-112b-464e-aef6-f8caad0e2c24",
   "metadata": {},
   "outputs": [],
   "source": [
    "# load dataset here"
   ]
  },
  {
   "cell_type": "markdown",
   "id": "0837ac9e-af3f-4880-9776-7524dc1f01c1",
   "metadata": {},
   "source": [
    "## **🔎 Examine Dataset (EDA)**\n",
    "- Check for cells with null values.\n",
    "- Perform 5 descriptive analysis.\n",
    "- Perform 2 multivariate analysis."
   ]
  },
  {
   "cell_type": "code",
   "execution_count": null,
   "id": "fcfa487b-f7dc-4d34-8b02-6e128d05183f",
   "metadata": {},
   "outputs": [],
   "source": [
    "# code here"
   ]
  },
  {
   "cell_type": "markdown",
   "id": "22e35547-5ce9-4027-8e2e-c6a84c90c598",
   "metadata": {},
   "source": [
    "## **🧹 Prepare Dataset**\n",
    "- Identify the `predictor` and the `target` variables.\n",
    "- Split the dataset for `train` and test `sets`."
   ]
  },
  {
   "cell_type": "code",
   "execution_count": null,
   "id": "e95e1843-c565-4d90-b577-cdc01a8ff54f",
   "metadata": {},
   "outputs": [],
   "source": [
    "# code here"
   ]
  },
  {
   "cell_type": "markdown",
   "id": "4c961cb0-d438-4f55-a296-1fc14ed86eed",
   "metadata": {},
   "source": [
    "## **🤖 Train Model**\n",
    "- K Neares tNeighbor Classifier\n",
    "- Decision Tree Classifier\n",
    "- Logistic Regression\n",
    "- Naive Bayes Classifier"
   ]
  },
  {
   "cell_type": "code",
   "execution_count": null,
   "id": "1048e9d1-c93a-4aff-b779-244999710e10",
   "metadata": {},
   "outputs": [],
   "source": [
    "# code here"
   ]
  },
  {
   "cell_type": "markdown",
   "id": "2795c010-cb6f-4b33-b593-e28dc74fa315",
   "metadata": {},
   "source": [
    "## **📝 Evaluate Model Performance**\n",
    "- Derive classification metrics from confusion matrix."
   ]
  },
  {
   "cell_type": "code",
   "execution_count": null,
   "id": "943d9ff8-4011-4ea3-b3a1-0063e0bf0b05",
   "metadata": {},
   "outputs": [],
   "source": [
    "# code here"
   ]
  },
  {
   "cell_type": "markdown",
   "id": "72c23767-772c-4099-9d45-1c17f49cd113",
   "metadata": {},
   "source": [
    "## 🔢 **Discussion of Results**\n",
    "- *Write down your observations and assumptions here.*"
   ]
  },
  {
   "cell_type": "code",
   "execution_count": null,
   "id": "84105c17-f03b-4466-90ac-d256255c0127",
   "metadata": {},
   "outputs": [],
   "source": []
  }
 ],
 "metadata": {
  "kernelspec": {
   "display_name": "Python 3 (ipykernel)",
   "language": "python",
   "name": "python3"
  },
  "language_info": {
   "codemirror_mode": {
    "name": "ipython",
    "version": 3
   },
   "file_extension": ".py",
   "mimetype": "text/x-python",
   "name": "python",
   "nbconvert_exporter": "python",
   "pygments_lexer": "ipython3",
   "version": "3.8.5"
  }
 },
 "nbformat": 4,
 "nbformat_minor": 5
}
